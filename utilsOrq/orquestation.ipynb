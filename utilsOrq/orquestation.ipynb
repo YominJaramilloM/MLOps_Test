{
 "cells": [
  {
   "cell_type": "code",
   "execution_count": 3,
   "id": "52503f15",
   "metadata": {},
   "outputs": [],
   "source": [
    "from prefect import task, flow\n",
    "from datetime import timedelta\n",
    "from sklearn.model_selection import train_test_split\n",
    "from sklearn.ensemble import RandomForestRegressor\n",
    "import pandas as pd"
   ]
  },
  {
   "cell_type": "code",
   "execution_count": 4,
   "id": "a81bf7d3",
   "metadata": {},
   "outputs": [],
   "source": [
    "\n",
    "@task(\n",
    "    name=\"Load Boston Housing Dataset\",\n",
    "    tags=[\"data_loading\"],\n",
    "    description=\"Load Boston Housing dataset from sklearn\",\n",
    ")\n",
    "def get_data(path) -> dict:\n",
    "    \"\"\"This function loads the iris dataset from sklearn and returns it as a dictionary.\"\"\"\n",
    "    data = pd.read_csv(path)\n",
    "    return {\"data\": data[:, :-1], \"target\": data[:, -1]}"
   ]
  },
  {
   "cell_type": "code",
   "execution_count": 5,
   "id": "9cad84fa",
   "metadata": {},
   "outputs": [
    {
     "data": {
      "text/html": [
       "<pre style=\"white-space:pre;overflow-x:auto;line-height:normal;font-family:Menlo,'DejaVu Sans Mono',consolas,'Courier New',monospace\">20:31:25.984 | <span style=\"color: #008080; text-decoration-color: #008080\">INFO</span>    | prefect - Starting temporary server on <span style=\"color: #0000ff; text-decoration-color: #0000ff\">http://127.0.0.1:8532</span>\n",
       "See <span style=\"color: #0000ff; text-decoration-color: #0000ff\">https://docs.prefect.io/3.0/manage/self-host#self-host-a-prefect-server</span> for more information on running a dedicated Prefect server.\n",
       "</pre>\n"
      ],
      "text/plain": [
       "20:31:25.984 | \u001b[36mINFO\u001b[0m    | prefect - Starting temporary server on \u001b[94mhttp://127.0.0.1:8532\u001b[0m\n",
       "See \u001b[94mhttps://docs.prefect.io/3.0/manage/self-host#self-host-a-prefect-server\u001b[0m for more information on running a dedicated Prefect server.\n"
      ]
     },
     "metadata": {},
     "output_type": "display_data"
    },
    {
     "name": "stderr",
     "output_type": "stream",
     "text": [
      "20:31:30.549 | \u001b[93mWARNING\u001b[0m | prefect.server.utilities.postgres_listener - Cannot create Postgres LISTEN connection: PREFECT_API_DATABASE_CONNECTION_URL is not a PostgreSQL connection URL (driver: sqlite+aiosqlite).\n"
     ]
    },
    {
     "data": {
      "text/html": [
       "<pre style=\"white-space:pre;overflow-x:auto;line-height:normal;font-family:Menlo,'DejaVu Sans Mono',consolas,'Courier New',monospace\">20:31:30.773 | <span style=\"color: #008080; text-decoration-color: #008080\">INFO</span>    | Flow run<span style=\"color: #800080; text-decoration-color: #800080\"> 'purring-chowchow'</span> - Beginning flow run<span style=\"color: #800080; text-decoration-color: #800080\"> 'purring-chowchow'</span> for flow<span style=\"color: #800080; text-decoration-color: #800080; font-weight: bold\"> 'bostonHousingRegressor'</span>\n",
       "</pre>\n"
      ],
      "text/plain": [
       "20:31:30.773 | \u001b[36mINFO\u001b[0m    | Flow run\u001b[35m 'purring-chowchow'\u001b[0m - Beginning flow run\u001b[35m 'purring-chowchow'\u001b[0m for flow\u001b[1;35m 'bostonHousingRegressor'\u001b[0m\n"
      ]
     },
     "metadata": {},
     "output_type": "display_data"
    },
    {
     "data": {
      "text/html": [
       "<pre style=\"white-space:pre;overflow-x:auto;line-height:normal;font-family:Menlo,'DejaVu Sans Mono',consolas,'Courier New',monospace\">20:31:30.780 | <span style=\"color: #d70000; text-decoration-color: #d70000\">ERROR</span>   | Flow run<span style=\"color: #800080; text-decoration-color: #800080\"> 'purring-chowchow'</span> - Encountered exception during execution: ParameterBindError(\"Error binding parameters for function 'get_data': missing a required argument: 'path'.\\nFunction 'get_data' has signature 'path) -&gt; dict' but received args: () and kwargs: [].\")\n",
       "Traceback (most recent call last):\n",
       "  File \"/home/yominjaramillom/.pyenv/versions/3.9.18/envs/SalvaHealth/lib/python3.9/site-packages/prefect/utilities/callables.py\", line 70, in get_call_parameters\n",
       "    bound_signature = inspect.signature(fn).bind(*call_args, **call_kwargs)\n",
       "  File \"/home/yominjaramillom/.pyenv/versions/3.9.18/lib/python3.9/inspect.py\", line 3045, in bind\n",
       "    return self._bind(args, kwargs)\n",
       "  File \"/home/yominjaramillom/.pyenv/versions/3.9.18/lib/python3.9/inspect.py\", line 2960, in _bind\n",
       "    raise TypeError(msg) from None\n",
       "TypeError: missing a required argument: 'path'\n",
       "\n",
       "During handling of the above exception, another exception occurred:\n",
       "\n",
       "Traceback (most recent call last):\n",
       "  File \"/home/yominjaramillom/.pyenv/versions/3.9.18/envs/SalvaHealth/lib/python3.9/site-packages/prefect/flow_engine.py\", line 763, in run_context\n",
       "    yield self\n",
       "  File \"/home/yominjaramillom/.pyenv/versions/3.9.18/envs/SalvaHealth/lib/python3.9/site-packages/prefect/flow_engine.py\", line 1370, in run_flow_sync\n",
       "    engine.call_flow_fn()\n",
       "  File \"/home/yominjaramillom/.pyenv/versions/3.9.18/envs/SalvaHealth/lib/python3.9/site-packages/prefect/flow_engine.py\", line 783, in call_flow_fn\n",
       "    result = call_with_parameters(self.flow.fn, self.parameters)\n",
       "  File \"/home/yominjaramillom/.pyenv/versions/3.9.18/envs/SalvaHealth/lib/python3.9/site-packages/prefect/utilities/callables.py\", line 210, in call_with_parameters\n",
       "    return fn(*args, **kwargs)\n",
       "  File \"/tmp/ipykernel_290005/1806620000.py\", line 4, in bostonHousingRegressor\n",
       "    dataset = get_data()\n",
       "  File \"/home/yominjaramillom/.pyenv/versions/3.9.18/envs/SalvaHealth/lib/python3.9/site-packages/prefect/tasks.py\", line 1118, in __call__\n",
       "    parameters = get_call_parameters(self.fn, args, kwargs)\n",
       "  File \"/home/yominjaramillom/.pyenv/versions/3.9.18/envs/SalvaHealth/lib/python3.9/site-packages/prefect/utilities/callables.py\", line 72, in get_call_parameters\n",
       "    raise ParameterBindError.from_bind_failure(fn, exc, call_args, call_kwargs)\n",
       "prefect.exceptions.ParameterBindError: Error binding parameters for function 'get_data': missing a required argument: 'path'.\n",
       "Function 'get_data' has signature 'path) -&gt; dict' but received args: () and kwargs: [].\n",
       "</pre>\n"
      ],
      "text/plain": [
       "20:31:30.780 | \u001b[38;5;160mERROR\u001b[0m   | Flow run\u001b[35m 'purring-chowchow'\u001b[0m - Encountered exception during execution: ParameterBindError(\"Error binding parameters for function 'get_data': missing a required argument: 'path'.\\nFunction 'get_data' has signature 'path) -> dict' but received args: () and kwargs: [].\")\n",
       "Traceback (most recent call last):\n",
       "  File \"/home/yominjaramillom/.pyenv/versions/3.9.18/envs/SalvaHealth/lib/python3.9/site-packages/prefect/utilities/callables.py\", line 70, in get_call_parameters\n",
       "    bound_signature = inspect.signature(fn).bind(*call_args, **call_kwargs)\n",
       "  File \"/home/yominjaramillom/.pyenv/versions/3.9.18/lib/python3.9/inspect.py\", line 3045, in bind\n",
       "    return self._bind(args, kwargs)\n",
       "  File \"/home/yominjaramillom/.pyenv/versions/3.9.18/lib/python3.9/inspect.py\", line 2960, in _bind\n",
       "    raise TypeError(msg) from None\n",
       "TypeError: missing a required argument: 'path'\n",
       "\n",
       "During handling of the above exception, another exception occurred:\n",
       "\n",
       "Traceback (most recent call last):\n",
       "  File \"/home/yominjaramillom/.pyenv/versions/3.9.18/envs/SalvaHealth/lib/python3.9/site-packages/prefect/flow_engine.py\", line 763, in run_context\n",
       "    yield self\n",
       "  File \"/home/yominjaramillom/.pyenv/versions/3.9.18/envs/SalvaHealth/lib/python3.9/site-packages/prefect/flow_engine.py\", line 1370, in run_flow_sync\n",
       "    engine.call_flow_fn()\n",
       "  File \"/home/yominjaramillom/.pyenv/versions/3.9.18/envs/SalvaHealth/lib/python3.9/site-packages/prefect/flow_engine.py\", line 783, in call_flow_fn\n",
       "    result = call_with_parameters(self.flow.fn, self.parameters)\n",
       "  File \"/home/yominjaramillom/.pyenv/versions/3.9.18/envs/SalvaHealth/lib/python3.9/site-packages/prefect/utilities/callables.py\", line 210, in call_with_parameters\n",
       "    return fn(*args, **kwargs)\n",
       "  File \"/tmp/ipykernel_290005/1806620000.py\", line 4, in bostonHousingRegressor\n",
       "    dataset = get_data()\n",
       "  File \"/home/yominjaramillom/.pyenv/versions/3.9.18/envs/SalvaHealth/lib/python3.9/site-packages/prefect/tasks.py\", line 1118, in __call__\n",
       "    parameters = get_call_parameters(self.fn, args, kwargs)\n",
       "  File \"/home/yominjaramillom/.pyenv/versions/3.9.18/envs/SalvaHealth/lib/python3.9/site-packages/prefect/utilities/callables.py\", line 72, in get_call_parameters\n",
       "    raise ParameterBindError.from_bind_failure(fn, exc, call_args, call_kwargs)\n",
       "prefect.exceptions.ParameterBindError: Error binding parameters for function 'get_data': missing a required argument: 'path'.\n",
       "Function 'get_data' has signature 'path) -> dict' but received args: () and kwargs: [].\n"
      ]
     },
     "metadata": {},
     "output_type": "display_data"
    },
    {
     "data": {
      "text/html": [
       "<pre style=\"white-space:pre;overflow-x:auto;line-height:normal;font-family:Menlo,'DejaVu Sans Mono',consolas,'Courier New',monospace\">20:31:30.821 | <span style=\"color: #008080; text-decoration-color: #008080\">INFO</span>    | Flow run<span style=\"color: #800080; text-decoration-color: #800080\"> 'purring-chowchow'</span> - Received non-final state 'AwaitingRetry' when proposing final state '<span style=\"color: #d70000; text-decoration-color: #d70000\">Failed</span>' and will attempt to run again...\n",
       "</pre>\n"
      ],
      "text/plain": [
       "20:31:30.821 | \u001b[36mINFO\u001b[0m    | Flow run\u001b[35m 'purring-chowchow'\u001b[0m - Received non-final state 'AwaitingRetry' when proposing final state '\u001b[38;5;160mFailed\u001b[0m' and will attempt to run again...\n"
      ]
     },
     "metadata": {},
     "output_type": "display_data"
    },
    {
     "data": {
      "text/html": [
       "<pre style=\"white-space:pre;overflow-x:auto;line-height:normal;font-family:Menlo,'DejaVu Sans Mono',consolas,'Courier New',monospace\">20:31:35.870 | <span style=\"color: #008080; text-decoration-color: #008080\">INFO</span>    | Flow run<span style=\"color: #800080; text-decoration-color: #800080\"> 'purring-chowchow'</span> - Beginning flow run<span style=\"color: #800080; text-decoration-color: #800080\"> 'purring-chowchow'</span> for flow<span style=\"color: #800080; text-decoration-color: #800080; font-weight: bold\"> 'bostonHousingRegressor'</span>\n",
       "</pre>\n"
      ],
      "text/plain": [
       "20:31:35.870 | \u001b[36mINFO\u001b[0m    | Flow run\u001b[35m 'purring-chowchow'\u001b[0m - Beginning flow run\u001b[35m 'purring-chowchow'\u001b[0m for flow\u001b[1;35m 'bostonHousingRegressor'\u001b[0m\n"
      ]
     },
     "metadata": {},
     "output_type": "display_data"
    },
    {
     "data": {
      "text/html": [
       "<pre style=\"white-space:pre;overflow-x:auto;line-height:normal;font-family:Menlo,'DejaVu Sans Mono',consolas,'Courier New',monospace\">20:31:35.873 | <span style=\"color: #d70000; text-decoration-color: #d70000\">ERROR</span>   | Flow run<span style=\"color: #800080; text-decoration-color: #800080\"> 'purring-chowchow'</span> - Encountered exception during execution: ParameterBindError(\"Error binding parameters for function 'get_data': missing a required argument: 'path'.\\nFunction 'get_data' has signature 'path) -&gt; dict' but received args: () and kwargs: [].\")\n",
       "Traceback (most recent call last):\n",
       "  File \"/home/yominjaramillom/.pyenv/versions/3.9.18/envs/SalvaHealth/lib/python3.9/site-packages/prefect/utilities/callables.py\", line 70, in get_call_parameters\n",
       "    bound_signature = inspect.signature(fn).bind(*call_args, **call_kwargs)\n",
       "  File \"/home/yominjaramillom/.pyenv/versions/3.9.18/lib/python3.9/inspect.py\", line 3045, in bind\n",
       "    return self._bind(args, kwargs)\n",
       "  File \"/home/yominjaramillom/.pyenv/versions/3.9.18/lib/python3.9/inspect.py\", line 2960, in _bind\n",
       "    raise TypeError(msg) from None\n",
       "TypeError: missing a required argument: 'path'\n",
       "\n",
       "During handling of the above exception, another exception occurred:\n",
       "\n",
       "Traceback (most recent call last):\n",
       "  File \"/home/yominjaramillom/.pyenv/versions/3.9.18/envs/SalvaHealth/lib/python3.9/site-packages/prefect/flow_engine.py\", line 763, in run_context\n",
       "    yield self\n",
       "  File \"/home/yominjaramillom/.pyenv/versions/3.9.18/envs/SalvaHealth/lib/python3.9/site-packages/prefect/flow_engine.py\", line 1370, in run_flow_sync\n",
       "    engine.call_flow_fn()\n",
       "  File \"/home/yominjaramillom/.pyenv/versions/3.9.18/envs/SalvaHealth/lib/python3.9/site-packages/prefect/flow_engine.py\", line 783, in call_flow_fn\n",
       "    result = call_with_parameters(self.flow.fn, self.parameters)\n",
       "  File \"/home/yominjaramillom/.pyenv/versions/3.9.18/envs/SalvaHealth/lib/python3.9/site-packages/prefect/utilities/callables.py\", line 210, in call_with_parameters\n",
       "    return fn(*args, **kwargs)\n",
       "  File \"/tmp/ipykernel_290005/1806620000.py\", line 4, in bostonHousingRegressor\n",
       "    dataset = get_data()\n",
       "  File \"/home/yominjaramillom/.pyenv/versions/3.9.18/envs/SalvaHealth/lib/python3.9/site-packages/prefect/tasks.py\", line 1118, in __call__\n",
       "    parameters = get_call_parameters(self.fn, args, kwargs)\n",
       "  File \"/home/yominjaramillom/.pyenv/versions/3.9.18/envs/SalvaHealth/lib/python3.9/site-packages/prefect/utilities/callables.py\", line 72, in get_call_parameters\n",
       "    raise ParameterBindError.from_bind_failure(fn, exc, call_args, call_kwargs)\n",
       "prefect.exceptions.ParameterBindError: Error binding parameters for function 'get_data': missing a required argument: 'path'.\n",
       "Function 'get_data' has signature 'path) -&gt; dict' but received args: () and kwargs: [].\n",
       "</pre>\n"
      ],
      "text/plain": [
       "20:31:35.873 | \u001b[38;5;160mERROR\u001b[0m   | Flow run\u001b[35m 'purring-chowchow'\u001b[0m - Encountered exception during execution: ParameterBindError(\"Error binding parameters for function 'get_data': missing a required argument: 'path'.\\nFunction 'get_data' has signature 'path) -> dict' but received args: () and kwargs: [].\")\n",
       "Traceback (most recent call last):\n",
       "  File \"/home/yominjaramillom/.pyenv/versions/3.9.18/envs/SalvaHealth/lib/python3.9/site-packages/prefect/utilities/callables.py\", line 70, in get_call_parameters\n",
       "    bound_signature = inspect.signature(fn).bind(*call_args, **call_kwargs)\n",
       "  File \"/home/yominjaramillom/.pyenv/versions/3.9.18/lib/python3.9/inspect.py\", line 3045, in bind\n",
       "    return self._bind(args, kwargs)\n",
       "  File \"/home/yominjaramillom/.pyenv/versions/3.9.18/lib/python3.9/inspect.py\", line 2960, in _bind\n",
       "    raise TypeError(msg) from None\n",
       "TypeError: missing a required argument: 'path'\n",
       "\n",
       "During handling of the above exception, another exception occurred:\n",
       "\n",
       "Traceback (most recent call last):\n",
       "  File \"/home/yominjaramillom/.pyenv/versions/3.9.18/envs/SalvaHealth/lib/python3.9/site-packages/prefect/flow_engine.py\", line 763, in run_context\n",
       "    yield self\n",
       "  File \"/home/yominjaramillom/.pyenv/versions/3.9.18/envs/SalvaHealth/lib/python3.9/site-packages/prefect/flow_engine.py\", line 1370, in run_flow_sync\n",
       "    engine.call_flow_fn()\n",
       "  File \"/home/yominjaramillom/.pyenv/versions/3.9.18/envs/SalvaHealth/lib/python3.9/site-packages/prefect/flow_engine.py\", line 783, in call_flow_fn\n",
       "    result = call_with_parameters(self.flow.fn, self.parameters)\n",
       "  File \"/home/yominjaramillom/.pyenv/versions/3.9.18/envs/SalvaHealth/lib/python3.9/site-packages/prefect/utilities/callables.py\", line 210, in call_with_parameters\n",
       "    return fn(*args, **kwargs)\n",
       "  File \"/tmp/ipykernel_290005/1806620000.py\", line 4, in bostonHousingRegressor\n",
       "    dataset = get_data()\n",
       "  File \"/home/yominjaramillom/.pyenv/versions/3.9.18/envs/SalvaHealth/lib/python3.9/site-packages/prefect/tasks.py\", line 1118, in __call__\n",
       "    parameters = get_call_parameters(self.fn, args, kwargs)\n",
       "  File \"/home/yominjaramillom/.pyenv/versions/3.9.18/envs/SalvaHealth/lib/python3.9/site-packages/prefect/utilities/callables.py\", line 72, in get_call_parameters\n",
       "    raise ParameterBindError.from_bind_failure(fn, exc, call_args, call_kwargs)\n",
       "prefect.exceptions.ParameterBindError: Error binding parameters for function 'get_data': missing a required argument: 'path'.\n",
       "Function 'get_data' has signature 'path) -> dict' but received args: () and kwargs: [].\n"
      ]
     },
     "metadata": {},
     "output_type": "display_data"
    },
    {
     "data": {
      "text/html": [
       "<pre style=\"white-space:pre;overflow-x:auto;line-height:normal;font-family:Menlo,'DejaVu Sans Mono',consolas,'Courier New',monospace\">20:31:35.894 | <span style=\"color: #008080; text-decoration-color: #008080\">INFO</span>    | Flow run<span style=\"color: #800080; text-decoration-color: #800080\"> 'purring-chowchow'</span> - Received non-final state 'AwaitingRetry' when proposing final state '<span style=\"color: #d70000; text-decoration-color: #d70000\">Failed</span>' and will attempt to run again...\n",
       "</pre>\n"
      ],
      "text/plain": [
       "20:31:35.894 | \u001b[36mINFO\u001b[0m    | Flow run\u001b[35m 'purring-chowchow'\u001b[0m - Received non-final state 'AwaitingRetry' when proposing final state '\u001b[38;5;160mFailed\u001b[0m' and will attempt to run again...\n"
      ]
     },
     "metadata": {},
     "output_type": "display_data"
    },
    {
     "data": {
      "text/html": [
       "<pre style=\"white-space:pre;overflow-x:auto;line-height:normal;font-family:Menlo,'DejaVu Sans Mono',consolas,'Courier New',monospace\">20:31:40.941 | <span style=\"color: #008080; text-decoration-color: #008080\">INFO</span>    | Flow run<span style=\"color: #800080; text-decoration-color: #800080\"> 'purring-chowchow'</span> - Beginning flow run<span style=\"color: #800080; text-decoration-color: #800080\"> 'purring-chowchow'</span> for flow<span style=\"color: #800080; text-decoration-color: #800080; font-weight: bold\"> 'bostonHousingRegressor'</span>\n",
       "</pre>\n"
      ],
      "text/plain": [
       "20:31:40.941 | \u001b[36mINFO\u001b[0m    | Flow run\u001b[35m 'purring-chowchow'\u001b[0m - Beginning flow run\u001b[35m 'purring-chowchow'\u001b[0m for flow\u001b[1;35m 'bostonHousingRegressor'\u001b[0m\n"
      ]
     },
     "metadata": {},
     "output_type": "display_data"
    },
    {
     "data": {
      "text/html": [
       "<pre style=\"white-space:pre;overflow-x:auto;line-height:normal;font-family:Menlo,'DejaVu Sans Mono',consolas,'Courier New',monospace\">20:31:40.944 | <span style=\"color: #d70000; text-decoration-color: #d70000\">ERROR</span>   | Flow run<span style=\"color: #800080; text-decoration-color: #800080\"> 'purring-chowchow'</span> - Encountered exception during execution: ParameterBindError(\"Error binding parameters for function 'get_data': missing a required argument: 'path'.\\nFunction 'get_data' has signature 'path) -&gt; dict' but received args: () and kwargs: [].\")\n",
       "Traceback (most recent call last):\n",
       "  File \"/home/yominjaramillom/.pyenv/versions/3.9.18/envs/SalvaHealth/lib/python3.9/site-packages/prefect/utilities/callables.py\", line 70, in get_call_parameters\n",
       "    bound_signature = inspect.signature(fn).bind(*call_args, **call_kwargs)\n",
       "  File \"/home/yominjaramillom/.pyenv/versions/3.9.18/lib/python3.9/inspect.py\", line 3045, in bind\n",
       "    return self._bind(args, kwargs)\n",
       "  File \"/home/yominjaramillom/.pyenv/versions/3.9.18/lib/python3.9/inspect.py\", line 2960, in _bind\n",
       "    raise TypeError(msg) from None\n",
       "TypeError: missing a required argument: 'path'\n",
       "\n",
       "During handling of the above exception, another exception occurred:\n",
       "\n",
       "Traceback (most recent call last):\n",
       "  File \"/home/yominjaramillom/.pyenv/versions/3.9.18/envs/SalvaHealth/lib/python3.9/site-packages/prefect/flow_engine.py\", line 763, in run_context\n",
       "    yield self\n",
       "  File \"/home/yominjaramillom/.pyenv/versions/3.9.18/envs/SalvaHealth/lib/python3.9/site-packages/prefect/flow_engine.py\", line 1370, in run_flow_sync\n",
       "    engine.call_flow_fn()\n",
       "  File \"/home/yominjaramillom/.pyenv/versions/3.9.18/envs/SalvaHealth/lib/python3.9/site-packages/prefect/flow_engine.py\", line 783, in call_flow_fn\n",
       "    result = call_with_parameters(self.flow.fn, self.parameters)\n",
       "  File \"/home/yominjaramillom/.pyenv/versions/3.9.18/envs/SalvaHealth/lib/python3.9/site-packages/prefect/utilities/callables.py\", line 210, in call_with_parameters\n",
       "    return fn(*args, **kwargs)\n",
       "  File \"/tmp/ipykernel_290005/1806620000.py\", line 4, in bostonHousingRegressor\n",
       "    dataset = get_data()\n",
       "  File \"/home/yominjaramillom/.pyenv/versions/3.9.18/envs/SalvaHealth/lib/python3.9/site-packages/prefect/tasks.py\", line 1118, in __call__\n",
       "    parameters = get_call_parameters(self.fn, args, kwargs)\n",
       "  File \"/home/yominjaramillom/.pyenv/versions/3.9.18/envs/SalvaHealth/lib/python3.9/site-packages/prefect/utilities/callables.py\", line 72, in get_call_parameters\n",
       "    raise ParameterBindError.from_bind_failure(fn, exc, call_args, call_kwargs)\n",
       "prefect.exceptions.ParameterBindError: Error binding parameters for function 'get_data': missing a required argument: 'path'.\n",
       "Function 'get_data' has signature 'path) -&gt; dict' but received args: () and kwargs: [].\n",
       "</pre>\n"
      ],
      "text/plain": [
       "20:31:40.944 | \u001b[38;5;160mERROR\u001b[0m   | Flow run\u001b[35m 'purring-chowchow'\u001b[0m - Encountered exception during execution: ParameterBindError(\"Error binding parameters for function 'get_data': missing a required argument: 'path'.\\nFunction 'get_data' has signature 'path) -> dict' but received args: () and kwargs: [].\")\n",
       "Traceback (most recent call last):\n",
       "  File \"/home/yominjaramillom/.pyenv/versions/3.9.18/envs/SalvaHealth/lib/python3.9/site-packages/prefect/utilities/callables.py\", line 70, in get_call_parameters\n",
       "    bound_signature = inspect.signature(fn).bind(*call_args, **call_kwargs)\n",
       "  File \"/home/yominjaramillom/.pyenv/versions/3.9.18/lib/python3.9/inspect.py\", line 3045, in bind\n",
       "    return self._bind(args, kwargs)\n",
       "  File \"/home/yominjaramillom/.pyenv/versions/3.9.18/lib/python3.9/inspect.py\", line 2960, in _bind\n",
       "    raise TypeError(msg) from None\n",
       "TypeError: missing a required argument: 'path'\n",
       "\n",
       "During handling of the above exception, another exception occurred:\n",
       "\n",
       "Traceback (most recent call last):\n",
       "  File \"/home/yominjaramillom/.pyenv/versions/3.9.18/envs/SalvaHealth/lib/python3.9/site-packages/prefect/flow_engine.py\", line 763, in run_context\n",
       "    yield self\n",
       "  File \"/home/yominjaramillom/.pyenv/versions/3.9.18/envs/SalvaHealth/lib/python3.9/site-packages/prefect/flow_engine.py\", line 1370, in run_flow_sync\n",
       "    engine.call_flow_fn()\n",
       "  File \"/home/yominjaramillom/.pyenv/versions/3.9.18/envs/SalvaHealth/lib/python3.9/site-packages/prefect/flow_engine.py\", line 783, in call_flow_fn\n",
       "    result = call_with_parameters(self.flow.fn, self.parameters)\n",
       "  File \"/home/yominjaramillom/.pyenv/versions/3.9.18/envs/SalvaHealth/lib/python3.9/site-packages/prefect/utilities/callables.py\", line 210, in call_with_parameters\n",
       "    return fn(*args, **kwargs)\n",
       "  File \"/tmp/ipykernel_290005/1806620000.py\", line 4, in bostonHousingRegressor\n",
       "    dataset = get_data()\n",
       "  File \"/home/yominjaramillom/.pyenv/versions/3.9.18/envs/SalvaHealth/lib/python3.9/site-packages/prefect/tasks.py\", line 1118, in __call__\n",
       "    parameters = get_call_parameters(self.fn, args, kwargs)\n",
       "  File \"/home/yominjaramillom/.pyenv/versions/3.9.18/envs/SalvaHealth/lib/python3.9/site-packages/prefect/utilities/callables.py\", line 72, in get_call_parameters\n",
       "    raise ParameterBindError.from_bind_failure(fn, exc, call_args, call_kwargs)\n",
       "prefect.exceptions.ParameterBindError: Error binding parameters for function 'get_data': missing a required argument: 'path'.\n",
       "Function 'get_data' has signature 'path) -> dict' but received args: () and kwargs: [].\n"
      ]
     },
     "metadata": {},
     "output_type": "display_data"
    },
    {
     "data": {
      "text/html": [
       "<pre style=\"white-space:pre;overflow-x:auto;line-height:normal;font-family:Menlo,'DejaVu Sans Mono',consolas,'Courier New',monospace\">20:31:40.969 | <span style=\"color: #008080; text-decoration-color: #008080\">INFO</span>    | Flow run<span style=\"color: #800080; text-decoration-color: #800080\"> 'purring-chowchow'</span> - Received non-final state 'AwaitingRetry' when proposing final state '<span style=\"color: #d70000; text-decoration-color: #d70000\">Failed</span>' and will attempt to run again...\n",
       "</pre>\n"
      ],
      "text/plain": [
       "20:31:40.969 | \u001b[36mINFO\u001b[0m    | Flow run\u001b[35m 'purring-chowchow'\u001b[0m - Received non-final state 'AwaitingRetry' when proposing final state '\u001b[38;5;160mFailed\u001b[0m' and will attempt to run again...\n"
      ]
     },
     "metadata": {},
     "output_type": "display_data"
    },
    {
     "data": {
      "text/html": [
       "<pre style=\"white-space:pre;overflow-x:auto;line-height:normal;font-family:Menlo,'DejaVu Sans Mono',consolas,'Courier New',monospace\">20:31:46.017 | <span style=\"color: #008080; text-decoration-color: #008080\">INFO</span>    | Flow run<span style=\"color: #800080; text-decoration-color: #800080\"> 'purring-chowchow'</span> - Beginning flow run<span style=\"color: #800080; text-decoration-color: #800080\"> 'purring-chowchow'</span> for flow<span style=\"color: #800080; text-decoration-color: #800080; font-weight: bold\"> 'bostonHousingRegressor'</span>\n",
       "</pre>\n"
      ],
      "text/plain": [
       "20:31:46.017 | \u001b[36mINFO\u001b[0m    | Flow run\u001b[35m 'purring-chowchow'\u001b[0m - Beginning flow run\u001b[35m 'purring-chowchow'\u001b[0m for flow\u001b[1;35m 'bostonHousingRegressor'\u001b[0m\n"
      ]
     },
     "metadata": {},
     "output_type": "display_data"
    },
    {
     "data": {
      "text/html": [
       "<pre style=\"white-space:pre;overflow-x:auto;line-height:normal;font-family:Menlo,'DejaVu Sans Mono',consolas,'Courier New',monospace\">20:31:46.020 | <span style=\"color: #d70000; text-decoration-color: #d70000\">ERROR</span>   | Flow run<span style=\"color: #800080; text-decoration-color: #800080\"> 'purring-chowchow'</span> - Encountered exception during execution: ParameterBindError(\"Error binding parameters for function 'get_data': missing a required argument: 'path'.\\nFunction 'get_data' has signature 'path) -&gt; dict' but received args: () and kwargs: [].\")\n",
       "Traceback (most recent call last):\n",
       "  File \"/home/yominjaramillom/.pyenv/versions/3.9.18/envs/SalvaHealth/lib/python3.9/site-packages/prefect/utilities/callables.py\", line 70, in get_call_parameters\n",
       "    bound_signature = inspect.signature(fn).bind(*call_args, **call_kwargs)\n",
       "  File \"/home/yominjaramillom/.pyenv/versions/3.9.18/lib/python3.9/inspect.py\", line 3045, in bind\n",
       "    return self._bind(args, kwargs)\n",
       "  File \"/home/yominjaramillom/.pyenv/versions/3.9.18/lib/python3.9/inspect.py\", line 2960, in _bind\n",
       "    raise TypeError(msg) from None\n",
       "TypeError: missing a required argument: 'path'\n",
       "\n",
       "During handling of the above exception, another exception occurred:\n",
       "\n",
       "Traceback (most recent call last):\n",
       "  File \"/home/yominjaramillom/.pyenv/versions/3.9.18/envs/SalvaHealth/lib/python3.9/site-packages/prefect/flow_engine.py\", line 763, in run_context\n",
       "    yield self\n",
       "  File \"/home/yominjaramillom/.pyenv/versions/3.9.18/envs/SalvaHealth/lib/python3.9/site-packages/prefect/flow_engine.py\", line 1370, in run_flow_sync\n",
       "    engine.call_flow_fn()\n",
       "  File \"/home/yominjaramillom/.pyenv/versions/3.9.18/envs/SalvaHealth/lib/python3.9/site-packages/prefect/flow_engine.py\", line 783, in call_flow_fn\n",
       "    result = call_with_parameters(self.flow.fn, self.parameters)\n",
       "  File \"/home/yominjaramillom/.pyenv/versions/3.9.18/envs/SalvaHealth/lib/python3.9/site-packages/prefect/utilities/callables.py\", line 210, in call_with_parameters\n",
       "    return fn(*args, **kwargs)\n",
       "  File \"/tmp/ipykernel_290005/1806620000.py\", line 4, in bostonHousingRegressor\n",
       "    dataset = get_data()\n",
       "  File \"/home/yominjaramillom/.pyenv/versions/3.9.18/envs/SalvaHealth/lib/python3.9/site-packages/prefect/tasks.py\", line 1118, in __call__\n",
       "    parameters = get_call_parameters(self.fn, args, kwargs)\n",
       "  File \"/home/yominjaramillom/.pyenv/versions/3.9.18/envs/SalvaHealth/lib/python3.9/site-packages/prefect/utilities/callables.py\", line 72, in get_call_parameters\n",
       "    raise ParameterBindError.from_bind_failure(fn, exc, call_args, call_kwargs)\n",
       "prefect.exceptions.ParameterBindError: Error binding parameters for function 'get_data': missing a required argument: 'path'.\n",
       "Function 'get_data' has signature 'path) -&gt; dict' but received args: () and kwargs: [].\n",
       "</pre>\n"
      ],
      "text/plain": [
       "20:31:46.020 | \u001b[38;5;160mERROR\u001b[0m   | Flow run\u001b[35m 'purring-chowchow'\u001b[0m - Encountered exception during execution: ParameterBindError(\"Error binding parameters for function 'get_data': missing a required argument: 'path'.\\nFunction 'get_data' has signature 'path) -> dict' but received args: () and kwargs: [].\")\n",
       "Traceback (most recent call last):\n",
       "  File \"/home/yominjaramillom/.pyenv/versions/3.9.18/envs/SalvaHealth/lib/python3.9/site-packages/prefect/utilities/callables.py\", line 70, in get_call_parameters\n",
       "    bound_signature = inspect.signature(fn).bind(*call_args, **call_kwargs)\n",
       "  File \"/home/yominjaramillom/.pyenv/versions/3.9.18/lib/python3.9/inspect.py\", line 3045, in bind\n",
       "    return self._bind(args, kwargs)\n",
       "  File \"/home/yominjaramillom/.pyenv/versions/3.9.18/lib/python3.9/inspect.py\", line 2960, in _bind\n",
       "    raise TypeError(msg) from None\n",
       "TypeError: missing a required argument: 'path'\n",
       "\n",
       "During handling of the above exception, another exception occurred:\n",
       "\n",
       "Traceback (most recent call last):\n",
       "  File \"/home/yominjaramillom/.pyenv/versions/3.9.18/envs/SalvaHealth/lib/python3.9/site-packages/prefect/flow_engine.py\", line 763, in run_context\n",
       "    yield self\n",
       "  File \"/home/yominjaramillom/.pyenv/versions/3.9.18/envs/SalvaHealth/lib/python3.9/site-packages/prefect/flow_engine.py\", line 1370, in run_flow_sync\n",
       "    engine.call_flow_fn()\n",
       "  File \"/home/yominjaramillom/.pyenv/versions/3.9.18/envs/SalvaHealth/lib/python3.9/site-packages/prefect/flow_engine.py\", line 783, in call_flow_fn\n",
       "    result = call_with_parameters(self.flow.fn, self.parameters)\n",
       "  File \"/home/yominjaramillom/.pyenv/versions/3.9.18/envs/SalvaHealth/lib/python3.9/site-packages/prefect/utilities/callables.py\", line 210, in call_with_parameters\n",
       "    return fn(*args, **kwargs)\n",
       "  File \"/tmp/ipykernel_290005/1806620000.py\", line 4, in bostonHousingRegressor\n",
       "    dataset = get_data()\n",
       "  File \"/home/yominjaramillom/.pyenv/versions/3.9.18/envs/SalvaHealth/lib/python3.9/site-packages/prefect/tasks.py\", line 1118, in __call__\n",
       "    parameters = get_call_parameters(self.fn, args, kwargs)\n",
       "  File \"/home/yominjaramillom/.pyenv/versions/3.9.18/envs/SalvaHealth/lib/python3.9/site-packages/prefect/utilities/callables.py\", line 72, in get_call_parameters\n",
       "    raise ParameterBindError.from_bind_failure(fn, exc, call_args, call_kwargs)\n",
       "prefect.exceptions.ParameterBindError: Error binding parameters for function 'get_data': missing a required argument: 'path'.\n",
       "Function 'get_data' has signature 'path) -> dict' but received args: () and kwargs: [].\n"
      ]
     },
     "metadata": {},
     "output_type": "display_data"
    },
    {
     "data": {
      "text/html": [
       "<pre style=\"white-space:pre;overflow-x:auto;line-height:normal;font-family:Menlo,'DejaVu Sans Mono',consolas,'Courier New',monospace\">20:31:46.049 | <span style=\"color: #008080; text-decoration-color: #008080\">INFO</span>    | Flow run<span style=\"color: #800080; text-decoration-color: #800080\"> 'purring-chowchow'</span> - Finished in state <span style=\"color: #d70000; text-decoration-color: #d70000\">Failed</span>(\"Flow run encountered an exception: ParameterBindError: Error binding parameters for function 'get_data': missing a required argument: 'path'.\\nFunction 'get_data' has signature 'path) -&gt; dict' but received args: () and kwargs: [].\")\n",
       "</pre>\n"
      ],
      "text/plain": [
       "20:31:46.049 | \u001b[36mINFO\u001b[0m    | Flow run\u001b[35m 'purring-chowchow'\u001b[0m - Finished in state \u001b[38;5;160mFailed\u001b[0m(\"Flow run encountered an exception: ParameterBindError: Error binding parameters for function 'get_data': missing a required argument: 'path'.\\nFunction 'get_data' has signature 'path) -> dict' but received args: () and kwargs: [].\")\n"
      ]
     },
     "metadata": {},
     "output_type": "display_data"
    },
    {
     "ename": "ParameterBindError",
     "evalue": "Error binding parameters for function 'get_data': missing a required argument: 'path'.\nFunction 'get_data' has signature 'path) -> dict' but received args: () and kwargs: [].",
     "output_type": "error",
     "traceback": [
      "\u001b[0;31m---------------------------------------------------------------------------\u001b[0m",
      "\u001b[0;31mTypeError\u001b[0m                                 Traceback (most recent call last)",
      "File \u001b[0;32m~/.pyenv/versions/3.9.18/envs/SalvaHealth/lib/python3.9/site-packages/prefect/utilities/callables.py:70\u001b[0m, in \u001b[0;36mget_call_parameters\u001b[0;34m(fn, call_args, call_kwargs, apply_defaults)\u001b[0m\n\u001b[1;32m     69\u001b[0m \u001b[38;5;28;01mtry\u001b[39;00m:\n\u001b[0;32m---> 70\u001b[0m     bound_signature \u001b[38;5;241m=\u001b[39m \u001b[43minspect\u001b[49m\u001b[38;5;241;43m.\u001b[39;49m\u001b[43msignature\u001b[49m\u001b[43m(\u001b[49m\u001b[43mfn\u001b[49m\u001b[43m)\u001b[49m\u001b[38;5;241;43m.\u001b[39;49m\u001b[43mbind\u001b[49m\u001b[43m(\u001b[49m\u001b[38;5;241;43m*\u001b[39;49m\u001b[43mcall_args\u001b[49m\u001b[43m,\u001b[49m\u001b[43m \u001b[49m\u001b[38;5;241;43m*\u001b[39;49m\u001b[38;5;241;43m*\u001b[39;49m\u001b[43mcall_kwargs\u001b[49m\u001b[43m)\u001b[49m\n\u001b[1;32m     71\u001b[0m \u001b[38;5;28;01mexcept\u001b[39;00m \u001b[38;5;167;01mTypeError\u001b[39;00m \u001b[38;5;28;01mas\u001b[39;00m exc:\n",
      "File \u001b[0;32m~/.pyenv/versions/3.9.18/lib/python3.9/inspect.py:3045\u001b[0m, in \u001b[0;36mSignature.bind\u001b[0;34m(self, *args, **kwargs)\u001b[0m\n\u001b[1;32m   3041\u001b[0m \u001b[38;5;250m\u001b[39m\u001b[38;5;124;03m\"\"\"Get a BoundArguments object, that maps the passed `args`\u001b[39;00m\n\u001b[1;32m   3042\u001b[0m \u001b[38;5;124;03mand `kwargs` to the function's signature.  Raises `TypeError`\u001b[39;00m\n\u001b[1;32m   3043\u001b[0m \u001b[38;5;124;03mif the passed arguments can not be bound.\u001b[39;00m\n\u001b[1;32m   3044\u001b[0m \u001b[38;5;124;03m\"\"\"\u001b[39;00m\n\u001b[0;32m-> 3045\u001b[0m \u001b[38;5;28;01mreturn\u001b[39;00m \u001b[38;5;28;43mself\u001b[39;49m\u001b[38;5;241;43m.\u001b[39;49m\u001b[43m_bind\u001b[49m\u001b[43m(\u001b[49m\u001b[43margs\u001b[49m\u001b[43m,\u001b[49m\u001b[43m \u001b[49m\u001b[43mkwargs\u001b[49m\u001b[43m)\u001b[49m\n",
      "File \u001b[0;32m~/.pyenv/versions/3.9.18/lib/python3.9/inspect.py:2960\u001b[0m, in \u001b[0;36mSignature._bind\u001b[0;34m(self, args, kwargs, partial)\u001b[0m\n\u001b[1;32m   2959\u001b[0m                 msg \u001b[38;5;241m=\u001b[39m msg\u001b[38;5;241m.\u001b[39mformat(arg\u001b[38;5;241m=\u001b[39mparam\u001b[38;5;241m.\u001b[39mname)\n\u001b[0;32m-> 2960\u001b[0m                 \u001b[38;5;28;01mraise\u001b[39;00m \u001b[38;5;167;01mTypeError\u001b[39;00m(msg) \u001b[38;5;28;01mfrom\u001b[39;00m\u001b[38;5;250m \u001b[39m\u001b[38;5;28;01mNone\u001b[39;00m\n\u001b[1;32m   2961\u001b[0m \u001b[38;5;28;01melse\u001b[39;00m:\n\u001b[1;32m   2962\u001b[0m     \u001b[38;5;66;03m# We have a positional argument to process\u001b[39;00m\n",
      "\u001b[0;31mTypeError\u001b[0m: missing a required argument: 'path'",
      "\nDuring handling of the above exception, another exception occurred:\n",
      "\u001b[0;31mParameterBindError\u001b[0m                        Traceback (most recent call last)",
      "Cell \u001b[0;32mIn[5], line 10\u001b[0m\n\u001b[1;32m      5\u001b[0m     \u001b[38;5;28mprint\u001b[39m(dataset[\u001b[38;5;124m\"\u001b[39m\u001b[38;5;124mdata\u001b[39m\u001b[38;5;124m\"\u001b[39m])\n\u001b[1;32m      6\u001b[0m     \u001b[38;5;66;03m#X_train, X_test, y_train, y_test = split_data(dataset)\u001b[39;00m\n\u001b[1;32m      7\u001b[0m     \u001b[38;5;66;03m#train_model(X_train, X_test, y_train, y_test)\u001b[39;00m\n\u001b[0;32m---> 10\u001b[0m \u001b[43mbostonHousingRegressor\u001b[49m\u001b[43m(\u001b[49m\u001b[43m)\u001b[49m\n",
      "File \u001b[0;32m~/.pyenv/versions/3.9.18/envs/SalvaHealth/lib/python3.9/site-packages/prefect/flows.py:1691\u001b[0m, in \u001b[0;36mFlow.__call__\u001b[0;34m(self, return_state, wait_for, *args, **kwargs)\u001b[0m\n\u001b[1;32m   1687\u001b[0m     \u001b[38;5;28;01mreturn\u001b[39;00m track_viz_task(\u001b[38;5;28mself\u001b[39m\u001b[38;5;241m.\u001b[39misasync, \u001b[38;5;28mself\u001b[39m\u001b[38;5;241m.\u001b[39mname, parameters)\n\u001b[1;32m   1689\u001b[0m \u001b[38;5;28;01mfrom\u001b[39;00m\u001b[38;5;250m \u001b[39m\u001b[38;5;21;01mprefect\u001b[39;00m\u001b[38;5;21;01m.\u001b[39;00m\u001b[38;5;21;01mflow_engine\u001b[39;00m\u001b[38;5;250m \u001b[39m\u001b[38;5;28;01mimport\u001b[39;00m run_flow\n\u001b[0;32m-> 1691\u001b[0m \u001b[38;5;28;01mreturn\u001b[39;00m \u001b[43mrun_flow\u001b[49m\u001b[43m(\u001b[49m\n\u001b[1;32m   1692\u001b[0m \u001b[43m    \u001b[49m\u001b[43mflow\u001b[49m\u001b[38;5;241;43m=\u001b[39;49m\u001b[38;5;28;43mself\u001b[39;49m\u001b[43m,\u001b[49m\n\u001b[1;32m   1693\u001b[0m \u001b[43m    \u001b[49m\u001b[43mparameters\u001b[49m\u001b[38;5;241;43m=\u001b[39;49m\u001b[43mparameters\u001b[49m\u001b[43m,\u001b[49m\n\u001b[1;32m   1694\u001b[0m \u001b[43m    \u001b[49m\u001b[43mwait_for\u001b[49m\u001b[38;5;241;43m=\u001b[39;49m\u001b[43mwait_for\u001b[49m\u001b[43m,\u001b[49m\n\u001b[1;32m   1695\u001b[0m \u001b[43m    \u001b[49m\u001b[43mreturn_type\u001b[49m\u001b[38;5;241;43m=\u001b[39;49m\u001b[43mreturn_type\u001b[49m\u001b[43m,\u001b[49m\n\u001b[1;32m   1696\u001b[0m \u001b[43m\u001b[49m\u001b[43m)\u001b[49m\n",
      "File \u001b[0;32m~/.pyenv/versions/3.9.18/envs/SalvaHealth/lib/python3.9/site-packages/prefect/flow_engine.py:1527\u001b[0m, in \u001b[0;36mrun_flow\u001b[0;34m(flow, flow_run, parameters, wait_for, return_type, error_logger, context)\u001b[0m\n\u001b[1;32m   1525\u001b[0m         ret_val \u001b[38;5;241m=\u001b[39m run_flow_async(\u001b[38;5;241m*\u001b[39m\u001b[38;5;241m*\u001b[39mkwargs)\n\u001b[1;32m   1526\u001b[0m     \u001b[38;5;28;01melse\u001b[39;00m:\n\u001b[0;32m-> 1527\u001b[0m         ret_val \u001b[38;5;241m=\u001b[39m \u001b[43mrun_flow_sync\u001b[49m\u001b[43m(\u001b[49m\u001b[38;5;241;43m*\u001b[39;49m\u001b[38;5;241;43m*\u001b[39;49m\u001b[43mkwargs\u001b[49m\u001b[43m)\u001b[49m\n\u001b[1;32m   1528\u001b[0m \u001b[38;5;28;01mexcept\u001b[39;00m (Abort, Pause):\n\u001b[1;32m   1529\u001b[0m     \u001b[38;5;28;01mraise\u001b[39;00m\n",
      "File \u001b[0;32m~/.pyenv/versions/3.9.18/envs/SalvaHealth/lib/python3.9/site-packages/prefect/flow_engine.py:1372\u001b[0m, in \u001b[0;36mrun_flow_sync\u001b[0;34m(flow, flow_run, parameters, wait_for, return_type, context)\u001b[0m\n\u001b[1;32m   1369\u001b[0m         \u001b[38;5;28;01mwith\u001b[39;00m engine\u001b[38;5;241m.\u001b[39mrun_context():\n\u001b[1;32m   1370\u001b[0m             engine\u001b[38;5;241m.\u001b[39mcall_flow_fn()\n\u001b[0;32m-> 1372\u001b[0m \u001b[38;5;28;01mreturn\u001b[39;00m engine\u001b[38;5;241m.\u001b[39mstate \u001b[38;5;28;01mif\u001b[39;00m return_type \u001b[38;5;241m==\u001b[39m \u001b[38;5;124m\"\u001b[39m\u001b[38;5;124mstate\u001b[39m\u001b[38;5;124m\"\u001b[39m \u001b[38;5;28;01melse\u001b[39;00m \u001b[43mengine\u001b[49m\u001b[38;5;241;43m.\u001b[39;49m\u001b[43mresult\u001b[49m\u001b[43m(\u001b[49m\u001b[43m)\u001b[49m\n",
      "File \u001b[0;32m~/.pyenv/versions/3.9.18/envs/SalvaHealth/lib/python3.9/site-packages/prefect/flow_engine.py:350\u001b[0m, in \u001b[0;36mFlowRunEngine.result\u001b[0;34m(self, raise_on_failure)\u001b[0m\n\u001b[1;32m    348\u001b[0m \u001b[38;5;28;01mif\u001b[39;00m \u001b[38;5;28mself\u001b[39m\u001b[38;5;241m.\u001b[39m_raised \u001b[38;5;129;01mis\u001b[39;00m \u001b[38;5;129;01mnot\u001b[39;00m NotSet:\n\u001b[1;32m    349\u001b[0m     \u001b[38;5;28;01mif\u001b[39;00m raise_on_failure:\n\u001b[0;32m--> 350\u001b[0m         \u001b[38;5;28;01mraise\u001b[39;00m \u001b[38;5;28mself\u001b[39m\u001b[38;5;241m.\u001b[39m_raised\n\u001b[1;32m    351\u001b[0m     \u001b[38;5;28;01mreturn\u001b[39;00m \u001b[38;5;28mself\u001b[39m\u001b[38;5;241m.\u001b[39m_raised\n\u001b[1;32m    353\u001b[0m \u001b[38;5;66;03m# This is a fall through case which leans on the existing state result mechanics to get the\u001b[39;00m\n\u001b[1;32m    354\u001b[0m \u001b[38;5;66;03m# return value. This is necessary because we currently will return a State object if the\u001b[39;00m\n\u001b[1;32m    355\u001b[0m \u001b[38;5;66;03m# the State was Prefect-created.\u001b[39;00m\n\u001b[1;32m    356\u001b[0m \u001b[38;5;66;03m# TODO: Remove the need to get the result from a State except in cases where the return value\u001b[39;00m\n\u001b[1;32m    357\u001b[0m \u001b[38;5;66;03m# is a State object.\u001b[39;00m\n",
      "File \u001b[0;32m~/.pyenv/versions/3.9.18/envs/SalvaHealth/lib/python3.9/site-packages/prefect/flow_engine.py:763\u001b[0m, in \u001b[0;36mFlowRunEngine.run_context\u001b[0;34m(self)\u001b[0m\n\u001b[1;32m    756\u001b[0m     \u001b[38;5;28;01mwith\u001b[39;00m timeout_context(\n\u001b[1;32m    757\u001b[0m         seconds\u001b[38;5;241m=\u001b[39m\u001b[38;5;28mself\u001b[39m\u001b[38;5;241m.\u001b[39mflow\u001b[38;5;241m.\u001b[39mtimeout_seconds,\n\u001b[1;32m    758\u001b[0m         timeout_exc_type\u001b[38;5;241m=\u001b[39mFlowRunTimeoutError,\n\u001b[1;32m    759\u001b[0m     ):\n\u001b[1;32m    760\u001b[0m         \u001b[38;5;28mself\u001b[39m\u001b[38;5;241m.\u001b[39mlogger\u001b[38;5;241m.\u001b[39mdebug(\n\u001b[1;32m    761\u001b[0m             \u001b[38;5;124mf\u001b[39m\u001b[38;5;124m\"\u001b[39m\u001b[38;5;124mExecuting flow \u001b[39m\u001b[38;5;132;01m{\u001b[39;00m\u001b[38;5;28mself\u001b[39m\u001b[38;5;241m.\u001b[39mflow\u001b[38;5;241m.\u001b[39mname\u001b[38;5;132;01m!r}\u001b[39;00m\u001b[38;5;124m for flow run \u001b[39m\u001b[38;5;132;01m{\u001b[39;00m\u001b[38;5;28mself\u001b[39m\u001b[38;5;241m.\u001b[39mflow_run\u001b[38;5;241m.\u001b[39mname\u001b[38;5;132;01m!r}\u001b[39;00m\u001b[38;5;124m...\u001b[39m\u001b[38;5;124m\"\u001b[39m\n\u001b[1;32m    762\u001b[0m         )\n\u001b[0;32m--> 763\u001b[0m         \u001b[38;5;28;01myield\u001b[39;00m \u001b[38;5;28mself\u001b[39m\n\u001b[1;32m    764\u001b[0m \u001b[38;5;28;01mexcept\u001b[39;00m \u001b[38;5;167;01mTimeoutError\u001b[39;00m \u001b[38;5;28;01mas\u001b[39;00m exc:\n\u001b[1;32m    765\u001b[0m     \u001b[38;5;28mself\u001b[39m\u001b[38;5;241m.\u001b[39mhandle_timeout(exc)\n",
      "File \u001b[0;32m~/.pyenv/versions/3.9.18/envs/SalvaHealth/lib/python3.9/site-packages/prefect/flow_engine.py:1370\u001b[0m, in \u001b[0;36mrun_flow_sync\u001b[0;34m(flow, flow_run, parameters, wait_for, return_type, context)\u001b[0m\n\u001b[1;32m   1368\u001b[0m     \u001b[38;5;28;01mwhile\u001b[39;00m engine\u001b[38;5;241m.\u001b[39mis_running():\n\u001b[1;32m   1369\u001b[0m         \u001b[38;5;28;01mwith\u001b[39;00m engine\u001b[38;5;241m.\u001b[39mrun_context():\n\u001b[0;32m-> 1370\u001b[0m             \u001b[43mengine\u001b[49m\u001b[38;5;241;43m.\u001b[39;49m\u001b[43mcall_flow_fn\u001b[49m\u001b[43m(\u001b[49m\u001b[43m)\u001b[49m\n\u001b[1;32m   1372\u001b[0m \u001b[38;5;28;01mreturn\u001b[39;00m engine\u001b[38;5;241m.\u001b[39mstate \u001b[38;5;28;01mif\u001b[39;00m return_type \u001b[38;5;241m==\u001b[39m \u001b[38;5;124m\"\u001b[39m\u001b[38;5;124mstate\u001b[39m\u001b[38;5;124m\"\u001b[39m \u001b[38;5;28;01melse\u001b[39;00m engine\u001b[38;5;241m.\u001b[39mresult()\n",
      "File \u001b[0;32m~/.pyenv/versions/3.9.18/envs/SalvaHealth/lib/python3.9/site-packages/prefect/flow_engine.py:783\u001b[0m, in \u001b[0;36mFlowRunEngine.call_flow_fn\u001b[0;34m(self)\u001b[0m\n\u001b[1;32m    781\u001b[0m     \u001b[38;5;28;01mreturn\u001b[39;00m _call_flow_fn()\n\u001b[1;32m    782\u001b[0m \u001b[38;5;28;01melse\u001b[39;00m:\n\u001b[0;32m--> 783\u001b[0m     result \u001b[38;5;241m=\u001b[39m \u001b[43mcall_with_parameters\u001b[49m\u001b[43m(\u001b[49m\u001b[38;5;28;43mself\u001b[39;49m\u001b[38;5;241;43m.\u001b[39;49m\u001b[43mflow\u001b[49m\u001b[38;5;241;43m.\u001b[39;49m\u001b[43mfn\u001b[49m\u001b[43m,\u001b[49m\u001b[43m \u001b[49m\u001b[38;5;28;43mself\u001b[39;49m\u001b[38;5;241;43m.\u001b[39;49m\u001b[43mparameters\u001b[49m\u001b[43m)\u001b[49m\n\u001b[1;32m    784\u001b[0m     \u001b[38;5;28mself\u001b[39m\u001b[38;5;241m.\u001b[39mhandle_success(result)\n",
      "File \u001b[0;32m~/.pyenv/versions/3.9.18/envs/SalvaHealth/lib/python3.9/site-packages/prefect/utilities/callables.py:210\u001b[0m, in \u001b[0;36mcall_with_parameters\u001b[0;34m(fn, parameters)\u001b[0m\n\u001b[1;32m    202\u001b[0m \u001b[38;5;250m\u001b[39m\u001b[38;5;124;03m\"\"\"\u001b[39;00m\n\u001b[1;32m    203\u001b[0m \u001b[38;5;124;03mCall a function with parameters extracted with `get_call_parameters`\u001b[39;00m\n\u001b[1;32m    204\u001b[0m \n\u001b[0;32m   (...)\u001b[0m\n\u001b[1;32m    207\u001b[0m \u001b[38;5;124;03mthe args/kwargs using `parameters_to_positional_and_keyword` directly\u001b[39;00m\n\u001b[1;32m    208\u001b[0m \u001b[38;5;124;03m\"\"\"\u001b[39;00m\n\u001b[1;32m    209\u001b[0m args, kwargs \u001b[38;5;241m=\u001b[39m parameters_to_args_kwargs(fn, parameters)\n\u001b[0;32m--> 210\u001b[0m \u001b[38;5;28;01mreturn\u001b[39;00m \u001b[43mfn\u001b[49m\u001b[43m(\u001b[49m\u001b[38;5;241;43m*\u001b[39;49m\u001b[43margs\u001b[49m\u001b[43m,\u001b[49m\u001b[43m \u001b[49m\u001b[38;5;241;43m*\u001b[39;49m\u001b[38;5;241;43m*\u001b[39;49m\u001b[43mkwargs\u001b[49m\u001b[43m)\u001b[49m\n",
      "Cell \u001b[0;32mIn[5], line 4\u001b[0m, in \u001b[0;36mbostonHousingRegressor\u001b[0;34m()\u001b[0m\n\u001b[1;32m      1\u001b[0m \u001b[38;5;129m@flow\u001b[39m(retries\u001b[38;5;241m=\u001b[39m\u001b[38;5;241m3\u001b[39m, retry_delay_seconds\u001b[38;5;241m=\u001b[39m\u001b[38;5;241m5\u001b[39m, log_prints\u001b[38;5;241m=\u001b[39m\u001b[38;5;28;01mTrue\u001b[39;00m)\n\u001b[1;32m      2\u001b[0m \u001b[38;5;28;01mdef\u001b[39;00m\u001b[38;5;250m \u001b[39m\u001b[38;5;21mbostonHousingRegressor\u001b[39m():\n\u001b[1;32m      3\u001b[0m \u001b[38;5;250m    \u001b[39m\u001b[38;5;124;03m\"\"\"This function orchestrates the whole flow\"\"\"\u001b[39;00m\n\u001b[0;32m----> 4\u001b[0m     dataset \u001b[38;5;241m=\u001b[39m \u001b[43mget_data\u001b[49m\u001b[43m(\u001b[49m\u001b[43m)\u001b[49m\n\u001b[1;32m      5\u001b[0m     \u001b[38;5;28mprint\u001b[39m(dataset[\u001b[38;5;124m\"\u001b[39m\u001b[38;5;124mdata\u001b[39m\u001b[38;5;124m\"\u001b[39m])\n",
      "File \u001b[0;32m~/.pyenv/versions/3.9.18/envs/SalvaHealth/lib/python3.9/site-packages/prefect/tasks.py:1118\u001b[0m, in \u001b[0;36mTask.__call__\u001b[0;34m(self, return_state, wait_for, *args, **kwargs)\u001b[0m\n\u001b[1;32m   1112\u001b[0m \u001b[38;5;28;01mfrom\u001b[39;00m\u001b[38;5;250m \u001b[39m\u001b[38;5;21;01mprefect\u001b[39;00m\u001b[38;5;21;01m.\u001b[39;00m\u001b[38;5;21;01mutilities\u001b[39;00m\u001b[38;5;21;01m.\u001b[39;00m\u001b[38;5;21;01mvisualization\u001b[39;00m\u001b[38;5;250m \u001b[39m\u001b[38;5;28;01mimport\u001b[39;00m (\n\u001b[1;32m   1113\u001b[0m     get_task_viz_tracker,\n\u001b[1;32m   1114\u001b[0m     track_viz_task,\n\u001b[1;32m   1115\u001b[0m )\n\u001b[1;32m   1117\u001b[0m \u001b[38;5;66;03m# Convert the call args/kwargs to a parameter dict\u001b[39;00m\n\u001b[0;32m-> 1118\u001b[0m parameters \u001b[38;5;241m=\u001b[39m \u001b[43mget_call_parameters\u001b[49m\u001b[43m(\u001b[49m\u001b[38;5;28;43mself\u001b[39;49m\u001b[38;5;241;43m.\u001b[39;49m\u001b[43mfn\u001b[49m\u001b[43m,\u001b[49m\u001b[43m \u001b[49m\u001b[43margs\u001b[49m\u001b[43m,\u001b[49m\u001b[43m \u001b[49m\u001b[43mkwargs\u001b[49m\u001b[43m)\u001b[49m\n\u001b[1;32m   1120\u001b[0m return_type \u001b[38;5;241m=\u001b[39m \u001b[38;5;124m\"\u001b[39m\u001b[38;5;124mstate\u001b[39m\u001b[38;5;124m\"\u001b[39m \u001b[38;5;28;01mif\u001b[39;00m return_state \u001b[38;5;28;01melse\u001b[39;00m \u001b[38;5;124m\"\u001b[39m\u001b[38;5;124mresult\u001b[39m\u001b[38;5;124m\"\u001b[39m\n\u001b[1;32m   1122\u001b[0m task_run_tracker \u001b[38;5;241m=\u001b[39m get_task_viz_tracker()\n",
      "File \u001b[0;32m~/.pyenv/versions/3.9.18/envs/SalvaHealth/lib/python3.9/site-packages/prefect/utilities/callables.py:72\u001b[0m, in \u001b[0;36mget_call_parameters\u001b[0;34m(fn, call_args, call_kwargs, apply_defaults)\u001b[0m\n\u001b[1;32m     70\u001b[0m     bound_signature \u001b[38;5;241m=\u001b[39m inspect\u001b[38;5;241m.\u001b[39msignature(fn)\u001b[38;5;241m.\u001b[39mbind(\u001b[38;5;241m*\u001b[39mcall_args, \u001b[38;5;241m*\u001b[39m\u001b[38;5;241m*\u001b[39mcall_kwargs)\n\u001b[1;32m     71\u001b[0m \u001b[38;5;28;01mexcept\u001b[39;00m \u001b[38;5;167;01mTypeError\u001b[39;00m \u001b[38;5;28;01mas\u001b[39;00m exc:\n\u001b[0;32m---> 72\u001b[0m     \u001b[38;5;28;01mraise\u001b[39;00m ParameterBindError\u001b[38;5;241m.\u001b[39mfrom_bind_failure(fn, exc, call_args, call_kwargs)\n\u001b[1;32m     74\u001b[0m \u001b[38;5;28;01mif\u001b[39;00m apply_defaults:\n\u001b[1;32m     75\u001b[0m     bound_signature\u001b[38;5;241m.\u001b[39mapply_defaults()\n",
      "\u001b[0;31mParameterBindError\u001b[0m: Error binding parameters for function 'get_data': missing a required argument: 'path'.\nFunction 'get_data' has signature 'path) -> dict' but received args: () and kwargs: []."
     ]
    }
   ],
   "source": [
    "@flow(retries=3, retry_delay_seconds=5, log_prints=True)\n",
    "def bostonHousingRegressor():\n",
    "    \"\"\"This function orchestrates the whole flow\"\"\"\n",
    "    dataset = get_data()\n",
    "    print(dataset[\"data\"])\n",
    "    #X_train, X_test, y_train, y_test = split_data(dataset)\n",
    "    #train_model(X_train, X_test, y_train, y_test)\n",
    "\n",
    "\n",
    "bostonHousingRegressor()\n"
   ]
  }
 ],
 "metadata": {
  "kernelspec": {
   "display_name": "SalvaHealth",
   "language": "python",
   "name": "python3"
  },
  "language_info": {
   "codemirror_mode": {
    "name": "ipython",
    "version": 3
   },
   "file_extension": ".py",
   "mimetype": "text/x-python",
   "name": "python",
   "nbconvert_exporter": "python",
   "pygments_lexer": "ipython3",
   "version": "3.9.18"
  }
 },
 "nbformat": 4,
 "nbformat_minor": 5
}
