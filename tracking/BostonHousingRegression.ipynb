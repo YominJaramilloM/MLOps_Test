{
 "cells": [
  {
   "cell_type": "code",
   "execution_count": 1,
   "id": "0f56d93d",
   "metadata": {},
   "outputs": [],
   "source": [
    "import json\n",
    "import pickle\n",
    "import logging\n",
    "import os\n",
    "import warnings\n",
    "\n",
    "import joblib\n",
    "import mlflow\n",
    "import numpy as np\n",
    "from datetime import datetime\n",
    "import pandas as pd\n",
    "import matplotlib.pyplot as plt\n",
    "\n",
    "\n",
    "from imblearn.pipeline import Pipeline\n",
    "\n",
    "from sklearn.ensemble import RandomForestRegressor\n",
    "from sklearn.linear_model import Ridge\n",
    "from sklearn.metrics import mean_squared_error, r2_score\n",
    "from sklearn.model_selection import GridSearchCV, StratifiedKFold, train_test_split, cross_val_score\n",
    "from sklearn.neighbors import KNeighborsRegressor\n",
    "from sklearn.preprocessing import MinMaxScaler\n",
    "from sklearn.tree import DecisionTreeRegressor\n",
    "\n",
    "\n",
    "logging.basicConfig(level=logging.INFO)\n",
    "logger = logging.getLogger(__name__)\n",
    "warnings.filterwarnings(\"ignore\")\n"
   ]
  },
  {
   "cell_type": "code",
   "execution_count": 2,
   "id": "0947265a",
   "metadata": {},
   "outputs": [],
   "source": [
    "def read_csv(path) -> pd.DataFrame:\n",
    "    return pd.read_csv(path)\n",
    "\n",
    "def data_split(df: pd.DataFrame):\n",
    "    \"\"\"This function do splitting of data\"\"\"\n",
    "    X = df[:, :-1]\n",
    "    y = df[:, -1]\n",
    "    X_train, X_test, y_train, y_test = train_test_split(X, y, test_size=0.2, random_state=42)\n",
    "    X_test, X_val, y_test, y_val = train_test_split(X_test, y_test, test_size=0.5, random_state=42)\n",
    "\n",
    "    return X_train, X_val, X_test, y_train, y_val, y_test\n",
    "   \n",
    "def save_pickle(data, filename) -> None:\n",
    "    \"\"\"\n",
    "    This function saves the data in a pickle file. Args:\n",
    "        data (object): data to save, filename (str): filename\n",
    "    Returns:\n",
    "        None\n",
    "    \"\"\"\n",
    "    filepath = os.path.join(\"data_processed\", f\"{filename}.pkl\")\n",
    "    with open(filepath, 'wb') as file:\n",
    "        pickle.dump(data, file)\n",
    "\n",
    "def data_transform(X_train, X_val, X_test, y_train, y_val, y_test):\n",
    "    \"\"\"This function do data transformation\"\"\"\n",
    "    scaler= MinMaxScaler()\n",
    "    X_train = scaler.fit_transform(X_train)\n",
    "    X_val = scaler.transform(X_val)\n",
    "    X_test = scaler.transform(X_test)\n",
    "    save_pickle(scaler, \"scaler\")\n",
    "    save_pickle((X_train, y_train), \"train\")\n",
    "    save_pickle((X_val, y_val), \"val\")\n",
    "    save_pickle((X_test, y_test), \"test\")\n",
    "    #logger.info(\"data saved successfully in pickle files\")\n",
    "    return X_train, X_val, X_test"
   ]
  },
  {
   "cell_type": "code",
   "execution_count": 5,
   "id": "2aae6a0a",
   "metadata": {},
   "outputs": [
    {
     "name": "stdout",
     "output_type": "stream",
     "text": [
      "(506, 14)\n"
     ]
    },
    {
     "data": {
      "text/html": [
       "<div>\n",
       "<style scoped>\n",
       "    .dataframe tbody tr th:only-of-type {\n",
       "        vertical-align: middle;\n",
       "    }\n",
       "\n",
       "    .dataframe tbody tr th {\n",
       "        vertical-align: top;\n",
       "    }\n",
       "\n",
       "    .dataframe thead th {\n",
       "        text-align: right;\n",
       "    }\n",
       "</style>\n",
       "<table border=\"1\" class=\"dataframe\">\n",
       "  <thead>\n",
       "    <tr style=\"text-align: right;\">\n",
       "      <th></th>\n",
       "      <th>crim</th>\n",
       "      <th>zn</th>\n",
       "      <th>indus</th>\n",
       "      <th>chas</th>\n",
       "      <th>nox</th>\n",
       "      <th>rm</th>\n",
       "      <th>age</th>\n",
       "      <th>dis</th>\n",
       "      <th>rad</th>\n",
       "      <th>tax</th>\n",
       "      <th>ptratio</th>\n",
       "      <th>b</th>\n",
       "      <th>lstat</th>\n",
       "      <th>medv</th>\n",
       "    </tr>\n",
       "  </thead>\n",
       "  <tbody>\n",
       "    <tr>\n",
       "      <th>0</th>\n",
       "      <td>0.00632</td>\n",
       "      <td>18.0</td>\n",
       "      <td>2.31</td>\n",
       "      <td>0</td>\n",
       "      <td>0.538</td>\n",
       "      <td>6.575</td>\n",
       "      <td>65.2</td>\n",
       "      <td>4.0900</td>\n",
       "      <td>1</td>\n",
       "      <td>296</td>\n",
       "      <td>15.3</td>\n",
       "      <td>396.90</td>\n",
       "      <td>4.98</td>\n",
       "      <td>24.0</td>\n",
       "    </tr>\n",
       "    <tr>\n",
       "      <th>1</th>\n",
       "      <td>0.02731</td>\n",
       "      <td>0.0</td>\n",
       "      <td>7.07</td>\n",
       "      <td>0</td>\n",
       "      <td>0.469</td>\n",
       "      <td>6.421</td>\n",
       "      <td>78.9</td>\n",
       "      <td>4.9671</td>\n",
       "      <td>2</td>\n",
       "      <td>242</td>\n",
       "      <td>17.8</td>\n",
       "      <td>396.90</td>\n",
       "      <td>9.14</td>\n",
       "      <td>21.6</td>\n",
       "    </tr>\n",
       "    <tr>\n",
       "      <th>2</th>\n",
       "      <td>0.02729</td>\n",
       "      <td>0.0</td>\n",
       "      <td>7.07</td>\n",
       "      <td>0</td>\n",
       "      <td>0.469</td>\n",
       "      <td>7.185</td>\n",
       "      <td>61.1</td>\n",
       "      <td>4.9671</td>\n",
       "      <td>2</td>\n",
       "      <td>242</td>\n",
       "      <td>17.8</td>\n",
       "      <td>392.83</td>\n",
       "      <td>4.03</td>\n",
       "      <td>34.7</td>\n",
       "    </tr>\n",
       "    <tr>\n",
       "      <th>3</th>\n",
       "      <td>0.03237</td>\n",
       "      <td>0.0</td>\n",
       "      <td>2.18</td>\n",
       "      <td>0</td>\n",
       "      <td>0.458</td>\n",
       "      <td>6.998</td>\n",
       "      <td>45.8</td>\n",
       "      <td>6.0622</td>\n",
       "      <td>3</td>\n",
       "      <td>222</td>\n",
       "      <td>18.7</td>\n",
       "      <td>394.63</td>\n",
       "      <td>2.94</td>\n",
       "      <td>33.4</td>\n",
       "    </tr>\n",
       "    <tr>\n",
       "      <th>4</th>\n",
       "      <td>0.06905</td>\n",
       "      <td>0.0</td>\n",
       "      <td>2.18</td>\n",
       "      <td>0</td>\n",
       "      <td>0.458</td>\n",
       "      <td>7.147</td>\n",
       "      <td>54.2</td>\n",
       "      <td>6.0622</td>\n",
       "      <td>3</td>\n",
       "      <td>222</td>\n",
       "      <td>18.7</td>\n",
       "      <td>396.90</td>\n",
       "      <td>5.33</td>\n",
       "      <td>36.2</td>\n",
       "    </tr>\n",
       "  </tbody>\n",
       "</table>\n",
       "</div>"
      ],
      "text/plain": [
       "      crim    zn  indus  chas    nox     rm   age     dis  rad  tax  ptratio  \\\n",
       "0  0.00632  18.0   2.31     0  0.538  6.575  65.2  4.0900    1  296     15.3   \n",
       "1  0.02731   0.0   7.07     0  0.469  6.421  78.9  4.9671    2  242     17.8   \n",
       "2  0.02729   0.0   7.07     0  0.469  7.185  61.1  4.9671    2  242     17.8   \n",
       "3  0.03237   0.0   2.18     0  0.458  6.998  45.8  6.0622    3  222     18.7   \n",
       "4  0.06905   0.0   2.18     0  0.458  7.147  54.2  6.0622    3  222     18.7   \n",
       "\n",
       "        b  lstat  medv  \n",
       "0  396.90   4.98  24.0  \n",
       "1  396.90   9.14  21.6  \n",
       "2  392.83   4.03  34.7  \n",
       "3  394.63   2.94  33.4  \n",
       "4  396.90   5.33  36.2  "
      ]
     },
     "execution_count": 5,
     "metadata": {},
     "output_type": "execute_result"
    }
   ],
   "source": [
    "bostonHousing_Data=read_csv('https://raw.githubusercontent.com/selva86/datasets/master/BostonHousing.csv')\n",
    "print(bostonHousing_Data.shape)\n",
    "bostonHousing_Data.head()\n"
   ]
  },
  {
   "cell_type": "code",
   "execution_count": 4,
   "id": "4f8a8848",
   "metadata": {},
   "outputs": [
    {
     "name": "stdout",
     "output_type": "stream",
     "text": [
      "crim       0\n",
      "zn         0\n",
      "indus      0\n",
      "chas       0\n",
      "nox        0\n",
      "rm         0\n",
      "age        0\n",
      "dis        0\n",
      "rad        0\n",
      "tax        0\n",
      "ptratio    0\n",
      "b          0\n",
      "lstat      0\n",
      "medv       0\n",
      "dtype: int64\n"
     ]
    }
   ],
   "source": [
    "# Check for missing values\n",
    "print(bostonHousing_Data.isnull().sum())"
   ]
  },
  {
   "cell_type": "code",
   "execution_count": 5,
   "id": "de2925ea",
   "metadata": {},
   "outputs": [
    {
     "name": "stdout",
     "output_type": "stream",
     "text": [
      "X_train shape: (404, 13), y_train shape: (404,)\n",
      "X_val shape: (51, 13), y_val shape: (51,)\n",
      "X_test shape: (51, 13), y_test shape: (51,)\n"
     ]
    }
   ],
   "source": [
    "X_train, X_val, X_test, y_train, y_val, y_test = data_split(bostonHousing_Data.values)\n",
    "X_train, X_val, X_test = data_transform(X_train, X_val, X_test, y_train, y_val, y_test)\n",
    "print(f\"X_train shape: {X_train.shape}, y_train shape: {y_train.shape}\")\n",
    "print(f\"X_val shape: {X_val.shape}, y_val shape: {y_val.shape}\")\n",
    "print(f\"X_test shape: {X_test.shape}, y_test shape: {y_test.shape}\")\n"
   ]
  },
  {
   "cell_type": "code",
   "execution_count": 13,
   "id": "42ed1af2",
   "metadata": {},
   "outputs": [
    {
     "name": "stdout",
     "output_type": "stream",
     "text": [
      "ID: 4, Name: BostonHousing_v1, Deleted: deleted\n",
      "ID: 3, Name: BostonHousing_basseline, Deleted: deleted\n",
      "ID: 2, Name: BostonHousing_01, Deleted: deleted\n",
      "ID: 1, Name: BostonHousing_baseline, Deleted: deleted\n"
     ]
    }
   ],
   "source": [
    "from mlflow.tracking import MlflowClient\n",
    "\n",
    "client = MlflowClient()\n",
    "\n",
    "# Lista todos los experimentos, incluso los eliminados (si están)\n",
    "experiments = client.search_experiments(view_type=2)  # 2 = ALL\n",
    "\n",
    "for exp in experiments:\n",
    "    print(f\"ID: {exp.experiment_id}, Name: {exp.name}, Deleted: {exp.lifecycle_stage}\")"
   ]
  },
  {
   "cell_type": "code",
   "execution_count": 14,
   "id": "7485d246",
   "metadata": {},
   "outputs": [
    {
     "name": "stderr",
     "output_type": "stream",
     "text": [
      "2025/06/22 13:15:04 INFO mlflow.tracking.fluent: Experiment with name 'BostonHousing' does not exist. Creating a new experiment.\n"
     ]
    }
   ],
   "source": [
    "mlflow.set_tracking_uri(\"sqlite:///mlflow.db\") #For run this is imporant to activate mlflow tracking server:  mlflow ui --backend-store-uri sqlite:///backend.db\n",
    "mlflow.set_experiment(\"BostonHousing\")\n",
    "\n",
    "def display_regression_report(\n",
    "    model: object,\n",
    "    name_model: str,\n",
    "    developer: str,\n",
    "    X_train: pd.DataFrame,\n",
    "    X_val: pd.DataFrame,\n",
    "    y_train: pd.Series,\n",
    "    y_val: pd.Series,\n",
    "    use_cv = False\n",
    "):\n",
    "    \"\"\"This function display the regression report\n",
    "     Returns:\n",
    "      metric (list): list with the metrics\"\"\"\n",
    "    \n",
    "    # star experiment in mlflow\n",
    "    with mlflow.start_run(run_name=name_model):\n",
    "        mlflow.log_param(\"model\", name_model)\n",
    "        mlflow.log_param(\"developer\", developer)\n",
    "        # empty list to store the metrics and then tracking them in mlflow\n",
    "        metric = []\n",
    "        y_train_pred = model.predict(X_train)\n",
    "        y_val_pred = model.predict(X_val)\n",
    "\n",
    "        mse_train = round(mean_squared_error(y_train, y_train_pred), 2)\n",
    "        mse_val = round(mean_squared_error(y_val, y_val_pred), 2)\n",
    "        r2_train = round(r2_score(y_train, y_train_pred), 2)\n",
    "        r2_val = round(r2_score(y_val, y_val_pred), 2)\n",
    "        logger.info(\"Mean Squared Error Train:\", mse_train)\n",
    "        logger.info(\"Mean Squared Error Validation:\", mse_val)\n",
    "        logger.info(\"R2 Score Train:\", r2_train)\n",
    "        logger.info(\"R2 Score Validation:\", r2_val)\n",
    "        \n",
    "        \n",
    "        # adding the metrics to the list\n",
    "        metric.extend([mse_train, mse_val, r2_train, r2_val])\n",
    "\n",
    "        mlflow.log_metric(\"mse_train\", mse_train)\n",
    "        mlflow.log_metric(\"mse_val\", mse_val)\n",
    "        mlflow.log_metric(\"r2_train\", r2_train)\n",
    "        mlflow.log_metric(\"r2_val\", r2_val)\n",
    "        # Log the model parameters\n",
    "        mlflow.log_params(model.get_params())\n",
    "        # Log the model      \n",
    "        mlflow.sklearn.log_model(model, f\"model_{name_model}\")\n",
    "\n",
    "      \n",
    "        return metric\n",
    "\n"
   ]
  },
  {
   "cell_type": "markdown",
   "id": "87ac50f9",
   "metadata": {},
   "source": [
    "**RIDGE REGRESSION MODEL**"
   ]
  },
  {
   "cell_type": "code",
   "execution_count": 15,
   "id": "0817feb9",
   "metadata": {},
   "outputs": [
    {
     "name": "stderr",
     "output_type": "stream",
     "text": [
      "2025/06/22 13:15:07 WARNING mlflow.models.model: `artifact_path` is deprecated. Please use `name` instead.\n",
      "\u001b[31m2025/06/22 13:15:10 WARNING mlflow.models.model: Model logged without a signature and input example. Please set `input_example` parameter when logging the model to auto infer the model signature.\u001b[0m\n"
     ]
    },
    {
     "data": {
      "text/plain": [
       "[21.75, 20.99, 0.75, 0.75]"
      ]
     },
     "execution_count": 15,
     "metadata": {},
     "output_type": "execute_result"
    }
   ],
   "source": [
    "ridge = Ridge(alpha=0.5, fit_intercept=True, random_state=42)\n",
    "ridge.fit(X_train, y_train)\n",
    "display_regression_report(model=ridge, \n",
    "                              name_model=\"RidgeRegression\", \n",
    "                              developer=\"YominJ\", \n",
    "                              X_train=X_train, \n",
    "                              X_val=X_val, \n",
    "                              y_train=y_train, \n",
    "                              y_val=y_val,\n",
    "                              use_cv=False)"
   ]
  },
  {
   "cell_type": "markdown",
   "id": "a4fe8b8a",
   "metadata": {},
   "source": [
    "**DESCISION TREE REGRESSOR**"
   ]
  },
  {
   "cell_type": "code",
   "execution_count": 16,
   "id": "05573b62",
   "metadata": {},
   "outputs": [
    {
     "name": "stderr",
     "output_type": "stream",
     "text": [
      "2025/06/22 13:15:10 WARNING mlflow.models.model: `artifact_path` is deprecated. Please use `name` instead.\n",
      "\u001b[31m2025/06/22 13:15:13 WARNING mlflow.models.model: Model logged without a signature and input example. Please set `input_example` parameter when logging the model to auto infer the model signature.\u001b[0m\n"
     ]
    },
    {
     "data": {
      "text/plain": [
       "[2.16, 10.83, 0.98, 0.87]"
      ]
     },
     "execution_count": 16,
     "metadata": {},
     "output_type": "execute_result"
    }
   ],
   "source": [
    "dtr = DecisionTreeRegressor(random_state=42, max_depth=10, min_samples_split=5)\n",
    "dtr.fit(X_train,y_train)\n",
    "display_regression_report(model=dtr,\n",
    "                              name_model=\"DecisionTreeRegressor\",\n",
    "                              developer=\"YominJ\",\n",
    "                               X_train=X_train, \n",
    "                              X_val=X_val, \n",
    "                              y_train=y_train, \n",
    "                              y_val=y_val,\n",
    "                              use_cv=False)"
   ]
  },
  {
   "cell_type": "markdown",
   "id": "a473a7b3",
   "metadata": {},
   "source": [
    "**RANDOM FOREST REGRESSOR**"
   ]
  },
  {
   "cell_type": "code",
   "execution_count": 26,
   "id": "40f3341f",
   "metadata": {},
   "outputs": [
    {
     "name": "stderr",
     "output_type": "stream",
     "text": [
      "2025/06/22 13:48:11 WARNING mlflow.models.model: `artifact_path` is deprecated. Please use `name` instead.\n",
      "\u001b[31m2025/06/22 13:48:14 WARNING mlflow.models.model: Model logged without a signature and input example. Please set `input_example` parameter when logging the model to auto infer the model signature.\u001b[0m\n"
     ]
    },
    {
     "data": {
      "text/plain": [
       "[2.59, 5.39, 0.97, 0.93]"
      ]
     },
     "execution_count": 26,
     "metadata": {},
     "output_type": "execute_result"
    }
   ],
   "source": [
    "rfr= RandomForestRegressor(random_state=42, n_estimators=100, max_depth=9, min_samples_split=3)\n",
    "rfr.fit(X_train,y_train)\n",
    "display_regression_report(model=rfr,\n",
    "                            name_model=\"RandomForestRegressor\",\n",
    "                            developer=\"YominJ\",\n",
    "                            X_train=X_train,\n",
    "                            X_val=X_val,\n",
    "                            y_train=y_train,\n",
    "                            y_val=y_val,\n",
    "                            use_cv=False)"
   ]
  },
  {
   "cell_type": "markdown",
   "id": "5a5bf722",
   "metadata": {},
   "source": [
    "**kNN REGRESSOR**"
   ]
  },
  {
   "cell_type": "code",
   "execution_count": 18,
   "id": "5b085aa8",
   "metadata": {},
   "outputs": [
    {
     "name": "stderr",
     "output_type": "stream",
     "text": [
      "2025/06/22 13:15:15 WARNING mlflow.models.model: `artifact_path` is deprecated. Please use `name` instead.\n",
      "\u001b[31m2025/06/22 13:15:17 WARNING mlflow.models.model: Model logged without a signature and input example. Please set `input_example` parameter when logging the model to auto infer the model signature.\u001b[0m\n"
     ]
    },
    {
     "data": {
      "text/plain": [
       "[0.0, 15.12, 1.0, 0.82]"
      ]
     },
     "execution_count": 18,
     "metadata": {},
     "output_type": "execute_result"
    }
   ],
   "source": [
    "knnr = KNeighborsRegressor(n_neighbors=5, weights='distance', algorithm='auto', p=2, metric='minkowski', n_jobs=-1)\n",
    "knnr.fit(X_train, y_train)\n",
    "display_regression_report(model=knnr,\n",
    "                              name_model=\"KNeighborsRegressor\",\n",
    "                              developer=\"YominJ\",\n",
    "                              X_train=X_train,\n",
    "                              X_val=X_val,\n",
    "                              y_train=y_train,\n",
    "                              y_val=y_val,\n",
    "                              use_cv=False)"
   ]
  },
  {
   "cell_type": "markdown",
   "id": "ac18ff00",
   "metadata": {},
   "source": [
    "ejecutar mlflow ui --backend-store-uri sqlite:///mlflow.db para visualizar los resultados"
   ]
  },
  {
   "cell_type": "markdown",
   "id": "241937e9",
   "metadata": {},
   "source": [
    "**HACER INFERENCIAS CON EL MODELO**"
   ]
  },
  {
   "cell_type": "code",
   "execution_count": 20,
   "id": "0ba7e25a",
   "metadata": {},
   "outputs": [
    {
     "name": "stderr",
     "output_type": "stream",
     "text": [
      "Downloading artifacts:   0%|          | 0/1 [00:00<?, ?it/s]"
     ]
    },
    {
     "name": "stderr",
     "output_type": "stream",
     "text": [
      "Downloading artifacts:   0%|          | 0/1 [00:00<?, ?it/s]\n",
      "Downloading artifacts: 100%|██████████| 5/5 [00:00<00:00, 819.10it/s] \n"
     ]
    }
   ],
   "source": [
    "import mlflow\n",
    "\n",
    "\n",
    "logged_model = \"runs:/432888a8b30140588b16689d7093f85e/model_DecisionTreeRegressor\"  # Replace <RUN_ID> with the actual run ID from your MLflow experiment\n",
    "\n",
    "# Load model as a PyFuncModel.\n",
    "loaded_model = mlflow.pyfunc.load_model(logged_model)"
   ]
  },
  {
   "cell_type": "code",
   "execution_count": 21,
   "id": "843a5036",
   "metadata": {},
   "outputs": [
    {
     "data": {
      "text/plain": [
       "mlflow.pyfunc.loaded_model:\n",
       "  artifact_path: /home/yominjaramillom/SalvaHealth/mlruns/5/models/m-53f552080a6942cf9680bd82d55e31c3/artifacts\n",
       "  flavor: mlflow.sklearn\n",
       "  run_id: 432888a8b30140588b16689d7093f85e"
      ]
     },
     "execution_count": 21,
     "metadata": {},
     "output_type": "execute_result"
    }
   ],
   "source": [
    "loaded_model"
   ]
  },
  {
   "cell_type": "code",
   "execution_count": 22,
   "id": "269147d6",
   "metadata": {},
   "outputs": [
    {
     "name": "stderr",
     "output_type": "stream",
     "text": [
      "Downloading artifacts:   0%|          | 0/1 [00:00<?, ?it/s]"
     ]
    },
    {
     "name": "stderr",
     "output_type": "stream",
     "text": [
      "\n",
      "Downloading artifacts: 100%|██████████| 5/5 [00:00<00:00, 1503.98it/s] \n"
     ]
    }
   ],
   "source": [
    "rf_model = mlflow.sklearn.load_model(logged_model)"
   ]
  },
  {
   "cell_type": "code",
   "execution_count": 23,
   "id": "82c1a37e",
   "metadata": {},
   "outputs": [
    {
     "data": {
      "text/plain": [
       "array([33.175     , 21.02      , 14.23333333, 22.01428571, 10.5       ,\n",
       "       21.05      , 21.02      , 22.01428571, 17.54285714, 16.75      ,\n",
       "       33.2       , 17.96666667, 15.2       , 19.175     , 44.75      ,\n",
       "       21.81428571, 13.56666667, 15.2       , 22.01428571, 33.2       ,\n",
       "       11.36666667, 11.36666667, 29.625     , 21.26666667, 17.54285714,\n",
       "       23.06      , 26.325     , 10.5       , 14.1       , 44.475     ,\n",
       "       22.925     , 17.86666667, 15.975     , 19.48823529, 20.48571429,\n",
       "       33.175     , 17.54285714, 23.625     , 16.25      , 24.325     ,\n",
       "       23.625     , 19.48823529, 21.02      , 14.65      , 16.13333333,\n",
       "       23.625     , 25.175     , 24.325     , 19.48823529, 19.175     ,\n",
       "       35.5       ])"
      ]
     },
     "execution_count": 23,
     "metadata": {},
     "output_type": "execute_result"
    }
   ],
   "source": [
    "rf_model.predict(X_test)"
   ]
  },
  {
   "cell_type": "code",
   "execution_count": 25,
   "id": "bbade5e2",
   "metadata": {},
   "outputs": [
    {
     "name": "stdout",
     "output_type": "stream",
     "text": [
      "11.056515514483374\n",
      "0.8253113279938339\n"
     ]
    }
   ],
   "source": [
    "print(mean_squared_error(y_test, rf_model.predict(X_test)))\n",
    "print(r2_score(y_test, rf_model.predict(X_test)))"
   ]
  },
  {
   "cell_type": "markdown",
   "id": "905e16ad",
   "metadata": {},
   "source": [
    "**CONECTARSE AL CLIENTE MLFLOW**"
   ]
  },
  {
   "cell_type": "code",
   "execution_count": 27,
   "id": "f67e0681",
   "metadata": {},
   "outputs": [],
   "source": [
    "from mlflow.tracking import MlflowClient\n",
    "MLFLOW_TRACKING_URI = \"sqlite:///mlflow.db\"\n",
    "client = MlflowClient(tracking_uri=MLFLOW_TRACKING_URI)"
   ]
  },
  {
   "cell_type": "code",
   "execution_count": 30,
   "id": "430e4488",
   "metadata": {},
   "outputs": [
    {
     "name": "stdout",
     "output_type": "stream",
     "text": [
      "Unique Experiment IDs:\n",
      "Experiment ID: 5, Name: BostonHousing, Lifecycle Stage: active\n"
     ]
    }
   ],
   "source": [
    "runs = mlflow.search_runs()\n",
    "# Extrae los IDs únicos de los experimentos\n",
    "experiment_ids = runs['experiment_id'].unique()\n",
    "print(\"Unique Experiment IDs:\")\n",
    "for exp_id in experiment_ids:\n",
    "    exp = client.get_experiment(exp_id)\n",
    "    print(f\"Experiment ID: {exp.experiment_id}, Name: {exp.name}, Lifecycle Stage: {exp.lifecycle_stage}\")  \n",
    "    "
   ]
  },
  {
   "cell_type": "code",
   "execution_count": 33,
   "id": "ba2a1098",
   "metadata": {},
   "outputs": [
    {
     "name": "stdout",
     "output_type": "stream",
     "text": [
      "<RunInfo: artifact_uri='/home/yominjaramillom/SalvaHealth/mlruns/5/5eefa68c6dc44b67b899c7917c47388d/artifacts', end_time=1750618094381, experiment_id='5', lifecycle_stage='active', run_id='5eefa68c6dc44b67b899c7917c47388d', run_name='RandomForestRegressor', start_time=1750618091412, status='FINISHED', user_id='yominjaramillom'>\n",
      "<RunInfo: artifact_uri='/home/yominjaramillom/SalvaHealth/mlruns/5/03abee0f79d5472696c74ca74ae8300e/artifacts', end_time=1750616117955, experiment_id='5', lifecycle_stage='active', run_id='03abee0f79d5472696c74ca74ae8300e', run_name='KNeighborsRegressor', start_time=1750616115624, status='FINISHED', user_id='yominjaramillom'>\n",
      "<RunInfo: artifact_uri='/home/yominjaramillom/SalvaHealth/mlruns/5/8b41b001e12c40dcacb93548217b1f48/artifacts', end_time=1750616115598, experiment_id='5', lifecycle_stage='active', run_id='8b41b001e12c40dcacb93548217b1f48', run_name='RandomForestRegressor', start_time=1750616113329, status='FINISHED', user_id='yominjaramillom'>\n",
      "<RunInfo: artifact_uri='/home/yominjaramillom/SalvaHealth/mlruns/5/432888a8b30140588b16689d7093f85e/artifacts', end_time=1750616113105, experiment_id='5', lifecycle_stage='active', run_id='432888a8b30140588b16689d7093f85e', run_name='DecisionTreeRegressor', start_time=1750616110843, status='FINISHED', user_id='yominjaramillom'>\n",
      "<RunInfo: artifact_uri='/home/yominjaramillom/SalvaHealth/mlruns/5/0c12885921eb4f57a0146434dc61284b/artifacts', end_time=1750616110816, experiment_id='5', lifecycle_stage='active', run_id='0c12885921eb4f57a0146434dc61284b', run_name='RidgeRegression', start_time=1750616107852, status='FINISHED', user_id='yominjaramillom'>\n"
     ]
    }
   ],
   "source": [
    "runs = client.search_runs(experiment_ids=[\"5\"])\n",
    "for run in runs:\n",
    "    print(run.info)"
   ]
  },
  {
   "cell_type": "markdown",
   "id": "67afab46",
   "metadata": {},
   "source": [
    "**PROMOCION DEL MODELO**"
   ]
  },
  {
   "cell_type": "code",
   "execution_count": 37,
   "id": "34ee01a3",
   "metadata": {},
   "outputs": [
    {
     "name": "stdout",
     "output_type": "stream",
     "text": [
      "run id: 5eefa68c6dc44b67b899c7917c47388d, r2_score: 0.93, mse: 5.39, params: {'model': 'RandomForestRegressor', 'developer': 'YominJ', 'bootstrap': 'True', 'ccp_alpha': '0.0', 'criterion': 'squared_error', 'max_depth': '9', 'max_features': '1.0', 'max_leaf_nodes': 'None', 'max_samples': 'None', 'min_impurity_decrease': '0.0', 'min_samples_leaf': '1', 'min_samples_split': '3', 'min_weight_fraction_leaf': '0.0', 'monotonic_cst': 'None', 'n_estimators': '100', 'n_jobs': 'None', 'oob_score': 'False', 'random_state': '42', 'verbose': '0', 'warm_start': 'False'}\n",
      "run id: 03abee0f79d5472696c74ca74ae8300e, r2_score: 0.82, mse: 15.12, params: {'model': 'KNeighborsRegressor', 'developer': 'YominJ', 'algorithm': 'auto', 'leaf_size': '30', 'metric': 'minkowski', 'metric_params': 'None', 'n_jobs': '-1', 'n_neighbors': '5', 'p': '2', 'weights': 'distance'}\n",
      "run id: 8b41b001e12c40dcacb93548217b1f48, r2_score: 0.94, mse: 5.05, params: {'model': 'RandomForestRegressor', 'developer': 'YominJ', 'bootstrap': 'True', 'ccp_alpha': '0.0', 'criterion': 'squared_error', 'max_depth': '10', 'max_features': '1.0', 'max_leaf_nodes': 'None', 'max_samples': 'None', 'min_impurity_decrease': '0.0', 'min_samples_leaf': '1', 'min_samples_split': '3', 'min_weight_fraction_leaf': '0.0', 'monotonic_cst': 'None', 'n_estimators': '80', 'n_jobs': 'None', 'oob_score': 'False', 'random_state': '42', 'verbose': '0', 'warm_start': 'False'}\n",
      "run id: 432888a8b30140588b16689d7093f85e, r2_score: 0.87, mse: 10.83, params: {'model': 'DecisionTreeRegressor', 'developer': 'YominJ', 'ccp_alpha': '0.0', 'criterion': 'squared_error', 'max_depth': '10', 'max_features': 'None', 'max_leaf_nodes': 'None', 'min_impurity_decrease': '0.0', 'min_samples_leaf': '1', 'min_samples_split': '5', 'min_weight_fraction_leaf': '0.0', 'monotonic_cst': 'None', 'random_state': '42', 'splitter': 'best'}\n",
      "run id: 0c12885921eb4f57a0146434dc61284b, r2_score: 0.75, mse: 20.99, params: {'model': 'RidgeRegression', 'developer': 'YominJ', 'alpha': '0.5', 'copy_X': 'True', 'fit_intercept': 'True', 'max_iter': 'None', 'positive': 'False', 'random_state': '42', 'solver': 'auto', 'tol': '0.0001'}\n"
     ]
    }
   ],
   "source": [
    "runs= client.search_runs(\n",
    "    experiment_ids='5',\n",
    "    filter_string=\"\", #se puede usar un tag en especial o algún parámetro de interés ej: 'tags.model = valor que usaste\n",
    "    run_view_type=mlflow.entities.ViewType.ACTIVE_ONLY,\n",
    "    max_results=5,\n",
    "    order_by=[\"metrics.r2_score DESC\"]\n",
    "\n",
    ")\n",
    "for run in runs:\n",
    "    print(f\"run id: {run.info.run_id}, r2_score: {run.data.metrics['r2_val']}, mse: {run.data.metrics['mse_val']}, params: {run.data.params}\")"
   ]
  },
  {
   "cell_type": "code",
   "execution_count": 42,
   "id": "17fb093f",
   "metadata": {},
   "outputs": [
    {
     "name": "stdout",
     "output_type": "stream",
     "text": [
      " version: 1 , actual stage: None\n",
      " version: 2 , actual stage: Staging\n"
     ]
    }
   ],
   "source": [
    "model_name = \"RandomForestRegressor\"\n",
    "latest_versions = client.get_latest_versions(name=model_name)\n",
    "for version in latest_versions:\n",
    "    print(f\" version: {version.version} , actual stage: {version._current_stage}\")"
   ]
  },
  {
   "cell_type": "code",
   "execution_count": 43,
   "id": "fa4f4c6a",
   "metadata": {},
   "outputs": [
    {
     "data": {
      "text/plain": [
       "<ModelVersion: aliases=[], creation_timestamp=1750618210228, current_stage='Production', deployment_job_state=None, description='', last_updated_timestamp=1750627826278, metrics=None, model_id=None, name='RandomForestRegressor', params=None, run_id='', run_link='', source='/home/yominjaramillom/SalvaHealth/mlruns/5/models/m-8dbb06df4e4148eb8bc9866cbcbf3825/artifacts', status='READY', status_message=None, tags={}, user_id=None, version=2>"
      ]
     },
     "execution_count": 43,
     "metadata": {},
     "output_type": "execute_result"
    }
   ],
   "source": [
    "client.transition_model_version_stage(\n",
    "    name=model_name,\n",
    "    version=2,\n",
    "    stage=\"Production\"\n",
    ")"
   ]
  },
  {
   "cell_type": "code",
   "execution_count": 44,
   "id": "5f0361b6",
   "metadata": {},
   "outputs": [
    {
     "data": {
      "text/plain": [
       "<ModelVersion: aliases=[], creation_timestamp=1750618210228, current_stage='Production', deployment_job_state=None, description='The model version 2 was transitioned to Production on 2025-06-22', last_updated_timestamp=1750627828448, metrics=None, model_id=None, name='RandomForestRegressor', params=None, run_id='', run_link='', source='/home/yominjaramillom/SalvaHealth/mlruns/5/models/m-8dbb06df4e4148eb8bc9866cbcbf3825/artifacts', status='READY', status_message=None, tags={}, user_id=None, version=2>"
      ]
     },
     "execution_count": 44,
     "metadata": {},
     "output_type": "execute_result"
    }
   ],
   "source": [
    "client.update_model_version(\n",
    "    name=model_name, \n",
    "    version=2,\n",
    "    description=f\"The model version {2} was transitioned to Production on {datetime.today().date()}\"\n",
    ")"
   ]
  },
  {
   "cell_type": "markdown",
   "id": "aa12260a",
   "metadata": {},
   "source": [
    "**PRUEBA DEL MODELO EN PRODUCCION**"
   ]
  },
  {
   "cell_type": "code",
   "execution_count": 46,
   "id": "8e942f82",
   "metadata": {},
   "outputs": [],
   "source": [
    "import scipy"
   ]
  },
  {
   "cell_type": "code",
   "execution_count": 49,
   "id": "f24b8ff7",
   "metadata": {},
   "outputs": [
    {
     "data": {
      "text/plain": [
       "{'r2_score': 0.84}"
      ]
     },
     "execution_count": 49,
     "metadata": {},
     "output_type": "execute_result"
    }
   ],
   "source": [
    "def testint_model_from_mlflow(model_name: str, stage:str, X_test: scipy.sparse._csr.csr_matrix, Y_test: pd.Series):\n",
    "    \"\"\"this function tests a model from mlflow\n",
    "    Args:\n",
    "        model_name (str): name of the model\n",
    "        stage (str): stage of the model\n",
    "        X_test (scipy.sparse._csr.csr_matrix): test data\n",
    "        Y_test (scipy.sparse._csr.csr_matrix): test target\n",
    "    Returns:\n",
    "        float: rmse of the model\n",
    "    \n",
    "    \"\"\"\n",
    "    model_uri = f\"models:/{model_name}/{stage}\"\n",
    "    model = mlflow.pyfunc.load_model(model_uri)\n",
    "    y_pred = model.predict(X_test)\n",
    "    RFr2_score = round(r2_score(Y_test, y_pred), 2)\n",
    "    return {\"r2_score\": RFr2_score}\n",
    "\n",
    "testint_model_from_mlflow(model_name= \"RandomForestRegressor\", stage=\"Production\", X_test=X_test, Y_test=y_test)"
   ]
  },
  {
   "cell_type": "code",
   "execution_count": null,
   "id": "c3fa4dc4",
   "metadata": {},
   "outputs": [],
   "source": []
  }
 ],
 "metadata": {
  "kernelspec": {
   "display_name": "SalvaHealth",
   "language": "python",
   "name": "python3"
  },
  "language_info": {
   "codemirror_mode": {
    "name": "ipython",
    "version": 3
   },
   "file_extension": ".py",
   "mimetype": "text/x-python",
   "name": "python",
   "nbconvert_exporter": "python",
   "pygments_lexer": "ipython3",
   "version": "3.9.18"
  }
 },
 "nbformat": 4,
 "nbformat_minor": 5
}
